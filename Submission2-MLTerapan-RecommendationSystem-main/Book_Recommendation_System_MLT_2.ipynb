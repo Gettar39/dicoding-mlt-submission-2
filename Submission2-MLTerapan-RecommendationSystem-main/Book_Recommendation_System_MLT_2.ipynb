{
  "nbformat": 4,
  "nbformat_minor": 0,
  "metadata": {
    "colab": {
      "provenance": [],
      "gpuType": "T4"
    },
    "kernelspec": {
      "name": "python3",
      "display_name": "Python 3"
    },
    "language_info": {
      "name": "python"
    },
    "accelerator": "GPU"
  },
  "cells": [
    {
      "cell_type": "markdown",
      "source": [
        "# **Proyek Recommendation System: [Book Recomemendation System]**\n",
        "*   Nama: Gettar Adhi Pinaringan\n",
        "*   Email: mc011d5y2325@student.devacademy.id\n",
        "*   ID Dicoding: mc011d5y2325"
      ],
      "metadata": {
        "id": "lzZfI081jiPx"
      }
    },
    {
      "cell_type": "markdown",
      "source": [
        "##  **Latar Belakang**\n",
        "\n",
        "Dalam beberapa tahun terakhir, kehadiran sistem rekomendasi semakin terasa di berbagai layanan digital, terutama dengan pesatnya pertumbuhan platform seperti YouTube, Amazon, dan Netflix. Sistem ini telah menjadi komponen kunci dalam pengalaman pengguna, mulai dari menyarankan film, lagu, produk, hingga buku yang kemungkinan besar akan disukai berdasarkan minat dan kebiasaan masing-masing individu.\n",
        "\n",
        "Secara sederhana, sistem rekomendasi bekerja dengan memanfaatkan algoritma untuk menampilkan item yang relevan bagi pengguna, menggunakan data interaksi maupun preferensi sebelumnya. Di berbagai sektor, sistem ini terbukti meningkatkan keterlibatan pengguna dan berkontribusi besar terhadap pertumbuhan bisnis. Sebagai contoh, Netflix pernah menyelenggarakan kompetisi global bernama *Netflix Prize* dengan hadiah sebesar 1 juta dolar AS, untuk siapa pun yang dapat meningkatkan performa sistem rekomendasi mereka.\n",
        "\n",
        "Dalam industri literasi dan perbukuan, sistem rekomendasi dapat menjadi alat yang sangat berharga untuk membantu pembaca menemukan bacaan yang sesuai selera. Di sisi lain, penerbit dan toko buku daring juga dapat memanfaatkannya untuk meningkatkan penjualan dan retensi pelanggan.\n",
        "\n",
        "---\n",
        "\n",
        "##  **Pertanyaan Utama**\n",
        "\n",
        "* Bagaimana cara mengenali pola preferensi pengguna terhadap buku dari data `df_rating` yang tersedia?\n",
        "* Bagaimana menyarankan buku yang belum pernah dibaca oleh pengguna, tetapi berpotensi sesuai dengan minatnya, berdasarkan kemiripan perilaku dengan pengguna lain?\n",
        "* Bagaimana menyajikan hasil eksplorasi data secara visual agar dapat mendukung pemahaman dan pengembangan sistem rekomendasi yang efektif?\n",
        "\n",
        "---\n",
        "\n",
        "##  **Tujuan**\n",
        "\n",
        "* Menganalisis dan memproses data `df_rating` untuk memahami karakteristik interaksi antara pengguna dan buku.\n",
        "* Membangun sistem rekomendasi menggunakan metode **collaborative filtering**, dengan fokus pada kesamaan preferensi antar pengguna untuk menghasilkan saran yang relevan.\n",
        "* Menampilkan hasil eksplorasi data dalam bentuk **visualisasi interaktif**, seperti bar chart atau distribusi, untuk memperkuat proses analisis dan membantu dalam pengambilan keputusan berbasis data.\n",
        "\n",
        "---\n",
        "\n",
        "Jika Anda menginginkan versi yang lebih ringkas atau akademik, atau ingin menyesuaikan nada tulisannya untuk laporan atau presentasi, saya bisa bantu sesuaikan juga.\n"
      ],
      "metadata": {
        "id": "tmkvcScnjAXa"
      }
    },
    {
      "cell_type": "markdown",
      "source": [
        "**Sumber Dataset:** https://www.kaggle.com/datasets/arashnic/book-recommendation-dataset"
      ],
      "metadata": {
        "id": "MKGrQJOe0wmA"
      }
    },
    {
      "cell_type": "markdown",
      "source": [
        "***Deskripsi:***\n",
        "\n",
        "Dataset Book Recommendation Dataset merupakan kumpulan data yang terdiri dari tiga file utama: Users, Ratings, dan Books. File Users menyimpan informasi mengenai pengguna, di mana setiap pengguna diidentifikasi dengan ID unik yang telah dianonimkan menjadi angka. Selain itu, terdapat data demografis seperti lokasi dan usia, meskipun beberapa nilai mungkin kosong atau tidak tersedia. File Ratings menyajikan data penilaian buku oleh pengguna. Penilaian ini bisa berupa eksplisit (rentang 1–10, semakin tinggi menunjukkan apresiasi yang lebih besar) atau implisit (ditandai dengan nilai 0, menunjukkan interaksi tanpa penilaian langsung). Terakhir, file Books berisi informasi tentang buku yang diidentifikasi dengan ISBN. Selain judul buku, nama penulis (hanya yang pertama jika lebih dari satu), tahun terbit, dan penerbit, file ini juga mencantumkan tautan gambar sampul dalam tiga ukuran berbeda (kecil, sedang, besar) yang diambil dari situs Amazon. Dataset ini banyak digunakan untuk membangun dan menguji sistem rekomendasi berbasis buku."
      ],
      "metadata": {
        "id": "KdnJQ9BK1qUW"
      }
    },
    {
      "cell_type": "markdown",
      "source": [
        "## **Import Library**\n",
        "\n",
        "Pada cell ini, dilakukan proses import berbagai library yang dibutuhkan untuk menjalankan proyek **machine learning dan deep learning**:\n",
        "* **gdown**\n",
        "  untuk mempermudah pemasukan data\n",
        "* **pandas**\n",
        "  Digunakan untuk memproses dan memanipulasi data dalam bentuk **DataFrame**. Sangat penting untuk analisis data tabular seperti membaca file CSV, menggabungkan data, melakukan filtering, agregasi, dan transformasi data.\n",
        "\n",
        "* **numpy**\n",
        "  Digunakan untuk **operasi numerik dan manipulasi array multidimensi**. Banyak digunakan dalam komputasi ilmiah, statistik, dan mendukung perhitungan matematis tingkat lanjut yang efisien.\n",
        "\n",
        "* **matplotlib.pyplot** dan **seaborn**\n",
        "  Merupakan library untuk **visualisasi data**:\n",
        "\n",
        "  * `matplotlib.pyplot`: Untuk membuat grafik dasar seperti line plot, bar chart, scatter plot, dll.\n",
        "  * `seaborn`: Berbasis matplotlib, namun menawarkan tampilan grafik yang lebih menarik dan fungsi bawaan untuk visualisasi statistik seperti heatmap, boxplot, histogram, dsb.\n",
        "\n",
        "* **tensorflow**, **keras**, dan **layers**\n",
        "  Merupakan library untuk membangun model **deep learning**:\n",
        "\n",
        "  * `tensorflow`: Framework machine learning open-source dari Google.\n",
        "  * `keras`: Antarmuka API tingkat tinggi dari TensorFlow yang memudahkan pembangunan neural network.\n",
        "  * `layers`: Digunakan untuk menyusun lapisan-lapisan model neural network (misalnya Dense, Dropout, Conv2D, dll.).\n",
        "\n",
        "* **train\\_test\\_split** (dari `sklearn.model_selection`)\n",
        "  Digunakan untuk **membagi dataset menjadi data latih dan data uji**, yang penting dalam proses validasi model agar performa model bisa diuji pada data yang belum pernah dilihat sebelumnya."
      ],
      "metadata": {
        "id": "aHH_1zG056sM"
      }
    },
    {
      "cell_type": "code",
      "execution_count": null,
      "metadata": {
        "id": "7x5VQbMOhLok"
      },
      "outputs": [],
      "source": [
        "# Import library utama untuk analisis data dan visualisasi\n",
        "import pandas as pd\n",
        "import numpy as np\n",
        "import seaborn as sns\n",
        "import matplotlib.pyplot as plt\n",
        "import gdown\n",
        "import io\n",
        "\n",
        "# Import library untuk membangun model machine learning berbasis deep learning\n",
        "import tensorflow as tf\n",
        "from tensorflow import keras\n",
        "from tensorflow.keras import layers\n",
        "\n",
        "# Import library untuk membagi data menjadi data latih dan data uji\n",
        "from sklearn.model_selection import train_test_split\n",
        "\n",
        "# Menonaktifkan peringatan (warnings) agar output notebook lebih bersih dan tidak terganggu oleh pesan peringatan\n",
        "import warnings\n",
        "warnings.simplefilter('ignore')"
      ]
    },
    {
      "cell_type": "markdown",
      "source": [
        "# **Data Understanding**"
      ],
      "metadata": {
        "id": "00DcNsxdjwoy"
      }
    },
    {
      "cell_type": "markdown",
      "source": [
        "Data Understanding merupakan tahap awal yang krusial dalam pengembangan proyek machine learning maupun data science. Tahap ini bertujuan untuk memahami isi, struktur, serta kualitas data yang akan dianalisis. Dalam proyek ini, proses Data Understanding akan dilakukan melalui tiga tahapan utama, yaitu:\n",
        "- Melakukan load dataset dan mengubah nama kolom\n",
        "- Melakukan univariate exploratory data analysis\n",
        "- Melakukan visualisasi data"
      ],
      "metadata": {
        "id": "GaYm1ZSv1hBg"
      }
    },
    {
      "cell_type": "markdown",
      "source": [
        "## **Melakukan Load dataset dan mengubah nama kolom**"
      ],
      "metadata": {
        "id": "XIB7BD_YndK2"
      }
    },
    {
      "cell_type": "code",
      "source": [
        "# Books.csv\n",
        "!gdown --id 1wr0WVRph_JGr_Aik37V0zXSEqxaGVM7x -O Books.csv\n",
        "\n",
        "# Ratings.csv\n",
        "!gdown --id 1VLIYsD_6zYz2jr78k9X-3Tnmq3a6qB28 -O Ratings.csv\n",
        "\n",
        "# Users.csv\n",
        "!gdown --id 10GUNO4w8amC5dANl-X7XLP_2zPh1g8vu -O Users.csv\n",
        "\n",
        "df_books = pd.read_csv(\"Books.csv\")\n",
        "df_rating = pd.read_csv(\"Ratings.csv\")\n",
        "df_user = pd.read_csv(\"Users.csv\")\n",
        "\n",
        "# Mengubah nama kolom agar lebih konsisten dan mudah digunakan\n",
        "df_rating.rename(columns={'Book-Rating': 'Rating', 'User-ID': 'User_id'}, inplace=True)\n",
        "df_user.rename(columns={'User-ID': 'User_id'}, inplace=True)\n",
        "df_books.rename(columns={'Book-Title': 'Title', 'Book-Author': 'Author', 'Year-Of-Publication': 'Year'}, inplace=True)"
      ],
      "metadata": {
        "id": "fL1Pp848luh_",
        "colab": {
          "base_uri": "https://localhost:8080/"
        },
        "outputId": "d37b0670-4ac0-4765-ae7d-b5791ffce502"
      },
      "execution_count": null,
      "outputs": [
        {
          "output_type": "stream",
          "name": "stdout",
          "text": [
            "/usr/local/lib/python3.11/dist-packages/gdown/__main__.py:140: FutureWarning: Option `--id` was deprecated in version 4.3.1 and will be removed in 5.0. You don't need to pass it anymore to use a file ID.\n",
            "  warnings.warn(\n",
            "Downloading...\n",
            "From: https://drive.google.com/uc?id=1wr0WVRph_JGr_Aik37V0zXSEqxaGVM7x\n",
            "To: /content/Books.csv\n",
            "100% 73.3M/73.3M [00:00<00:00, 161MB/s]\n",
            "/usr/local/lib/python3.11/dist-packages/gdown/__main__.py:140: FutureWarning: Option `--id` was deprecated in version 4.3.1 and will be removed in 5.0. You don't need to pass it anymore to use a file ID.\n",
            "  warnings.warn(\n",
            "Downloading...\n",
            "From: https://drive.google.com/uc?id=1VLIYsD_6zYz2jr78k9X-3Tnmq3a6qB28\n",
            "To: /content/Ratings.csv\n",
            "100% 22.6M/22.6M [00:00<00:00, 150MB/s]\n",
            "/usr/local/lib/python3.11/dist-packages/gdown/__main__.py:140: FutureWarning: Option `--id` was deprecated in version 4.3.1 and will be removed in 5.0. You don't need to pass it anymore to use a file ID.\n",
            "  warnings.warn(\n",
            "Downloading...\n",
            "From: https://drive.google.com/uc?id=10GUNO4w8amC5dANl-X7XLP_2zPh1g8vu\n",
            "To: /content/Users.csv\n",
            "100% 11.0M/11.0M [00:00<00:00, 136MB/s]\n"
          ]
        }
      ]
    },
    {
      "cell_type": "markdown",
      "source": [
        "## **Univariate Exploratory Data Analysis**"
      ],
      "metadata": {
        "id": "42JvZRc2oRsb"
      }
    },
    {
      "cell_type": "markdown",
      "source": [
        "\n",
        "**Fitur-fitur dalam *Book Recommendation System Dataset* adalah:**\n",
        "\n",
        "**\\[df\\_user]**\n",
        "\n",
        "* **user\\_id**: ID unik yang merepresentasikan masing-masing pengguna.\n",
        "* **location**: Lokasi geografis pengguna, dapat mencakup negara, kota, atau kode pos.\n",
        "* **age**: Usia pengguna. Nilai dapat kosong atau tidak valid.\n",
        "\n",
        "**\\[df\\_books]**\n",
        "\n",
        "* **ISBN**: Nomor unik identifikasi buku.\n",
        "* **title**: Judul buku.\n",
        "* **author**: Nama penulis buku.\n",
        "* **year**: Tahun publikasi buku.\n",
        "* **publisher**: Nama penerbit buku.\n",
        "* **image\\_url\\_s / image\\_url\\_m / image\\_url\\_l**: Tautan ke gambar sampul buku dalam resolusi kecil (s), sedang (m), dan besar (l).\n",
        "\n",
        "**\\[df\\_rating]**\n",
        "\n",
        "* **user\\_id**: ID pengguna yang memberikan rating terhadap buku.\n",
        "* **ISBN**: ID buku yang diberi rating.\n",
        "* **rating**: Nilai rating yang diberikan oleh pengguna terhadap buku, dalam skala 0–10. Nilai 0 dapat berarti tidak ada rating eksplisit.\n"
      ],
      "metadata": {
        "id": "qVX4ZukfpUsj"
      }
    },
    {
      "cell_type": "markdown",
      "source": [
        "**Menampilkan lima baris pertama dari masing-masing dataset**"
      ],
      "metadata": {
        "id": "IBnt0VbSrmfH"
      }
    },
    {
      "cell_type": "code",
      "source": [
        "# Menampilkan 5 data pertama dari dataset df_user\n",
        "print(\"\\nContoh data dari dataset df_user:\")\n",
        "print(df_user.head(5))"
      ],
      "metadata": {
        "colab": {
          "base_uri": "https://localhost:8080/"
        },
        "id": "89Fu1j8IoY05",
        "outputId": "9d5b44f1-3527-4a75-fd58-af6f2194dfae"
      },
      "execution_count": null,
      "outputs": [
        {
          "output_type": "stream",
          "name": "stdout",
          "text": [
            "\n",
            "Contoh data dari dataset df_user:\n",
            "   User_id                            Location   Age\n",
            "0        1                  nyc, new york, usa   NaN\n",
            "1        2           stockton, california, usa  18.0\n",
            "2        3     moscow, yukon territory, russia   NaN\n",
            "3        4           porto, v.n.gaia, portugal  17.0\n",
            "4        5  farnborough, hants, united kingdom   NaN\n"
          ]
        }
      ]
    },
    {
      "cell_type": "code",
      "source": [
        "# Menampilkan 5 data pertama dari dataset df_rating\n",
        "print(\"\\nContoh data dari dataset df_rating:\")\n",
        "print(df_rating.head(5))"
      ],
      "metadata": {
        "colab": {
          "base_uri": "https://localhost:8080/"
        },
        "id": "zkRR0zMaoxiK",
        "outputId": "8fab0309-d4c7-47df-ecea-812c9d18bebe"
      },
      "execution_count": null,
      "outputs": [
        {
          "output_type": "stream",
          "name": "stdout",
          "text": [
            "\n",
            "Contoh data dari dataset df_rating:\n",
            "   User_id        ISBN  Rating\n",
            "0   276725  034545104X       0\n",
            "1   276726  0155061224       5\n",
            "2   276727  0446520802       0\n",
            "3   276729  052165615X       3\n",
            "4   276729  0521795028       6\n"
          ]
        }
      ]
    },
    {
      "cell_type": "code",
      "source": [
        "# Menampilkan 5 data pertama dari dataset df_books\n",
        "print(\"\\nContoh data dari dataset df_books:\")\n",
        "print(df_books.head(5))"
      ],
      "metadata": {
        "colab": {
          "base_uri": "https://localhost:8080/"
        },
        "id": "BpCG9_WRo7xU",
        "outputId": "ccc26690-74bd-4bdd-9dec-c7f09227efc2"
      },
      "execution_count": null,
      "outputs": [
        {
          "output_type": "stream",
          "name": "stdout",
          "text": [
            "\n",
            "Contoh data dari dataset df_books:\n",
            "         ISBN                                              Title  \\\n",
            "0  0195153448                                Classical Mythology   \n",
            "1  0002005018                                       Clara Callan   \n",
            "2  0060973129                               Decision in Normandy   \n",
            "3  0374157065  Flu: The Story of the Great Influenza Pandemic...   \n",
            "4  0393045218                             The Mummies of Urumchi   \n",
            "\n",
            "                 Author  Year                   Publisher  \\\n",
            "0    Mark P. O. Morford  2002     Oxford University Press   \n",
            "1  Richard Bruce Wright  2001       HarperFlamingo Canada   \n",
            "2          Carlo D'Este  1991             HarperPerennial   \n",
            "3      Gina Bari Kolata  1999        Farrar Straus Giroux   \n",
            "4       E. J. W. Barber  1999  W. W. Norton &amp; Company   \n",
            "\n",
            "                                         Image-URL-S  \\\n",
            "0  http://images.amazon.com/images/P/0195153448.0...   \n",
            "1  http://images.amazon.com/images/P/0002005018.0...   \n",
            "2  http://images.amazon.com/images/P/0060973129.0...   \n",
            "3  http://images.amazon.com/images/P/0374157065.0...   \n",
            "4  http://images.amazon.com/images/P/0393045218.0...   \n",
            "\n",
            "                                         Image-URL-M  \\\n",
            "0  http://images.amazon.com/images/P/0195153448.0...   \n",
            "1  http://images.amazon.com/images/P/0002005018.0...   \n",
            "2  http://images.amazon.com/images/P/0060973129.0...   \n",
            "3  http://images.amazon.com/images/P/0374157065.0...   \n",
            "4  http://images.amazon.com/images/P/0393045218.0...   \n",
            "\n",
            "                                         Image-URL-L  \n",
            "0  http://images.amazon.com/images/P/0195153448.0...  \n",
            "1  http://images.amazon.com/images/P/0002005018.0...  \n",
            "2  http://images.amazon.com/images/P/0060973129.0...  \n",
            "3  http://images.amazon.com/images/P/0374157065.0...  \n",
            "4  http://images.amazon.com/images/P/0393045218.0...  \n"
          ]
        }
      ]
    },
    {
      "cell_type": "markdown",
      "source": [
        "**Menampilkan informasi dari masing-masing dataset**"
      ],
      "metadata": {
        "id": "q6zT2ZcJrq3U"
      }
    },
    {
      "cell_type": "code",
      "source": [
        "# Membuat fungsi bantu untuk menangkap output dari .info()\n",
        "def get_info(df, name):\n",
        "    buffer = io.StringIO()\n",
        "    print(f\"\\n=== Informasi Dataset: {name} ===\")\n",
        "    df.info(buf=buffer)\n",
        "    print(buffer.getvalue())\n",
        "\n",
        "# Menampilkan informasi masing-masing dataset dalam satu cell\n",
        "get_info(df_user, 'df_user')\n",
        "get_info(df_rating, 'df_rating')\n",
        "get_info(df_books, 'df_books')\n"
      ],
      "metadata": {
        "colab": {
          "base_uri": "https://localhost:8080/"
        },
        "id": "_fevReUbKLqz",
        "outputId": "0813a334-9bd7-4d14-f76b-6790f8e92318"
      },
      "execution_count": null,
      "outputs": [
        {
          "output_type": "stream",
          "name": "stdout",
          "text": [
            "\n",
            "=== Informasi Dataset: df_user ===\n",
            "<class 'pandas.core.frame.DataFrame'>\n",
            "RangeIndex: 278858 entries, 0 to 278857\n",
            "Data columns (total 3 columns):\n",
            " #   Column    Non-Null Count   Dtype  \n",
            "---  ------    --------------   -----  \n",
            " 0   User_id   278858 non-null  int64  \n",
            " 1   Location  278858 non-null  object \n",
            " 2   Age       278858 non-null  float64\n",
            "dtypes: float64(1), int64(1), object(1)\n",
            "memory usage: 6.4+ MB\n",
            "\n",
            "\n",
            "=== Informasi Dataset: df_rating ===\n",
            "<class 'pandas.core.frame.DataFrame'>\n",
            "RangeIndex: 1149780 entries, 0 to 1149779\n",
            "Data columns (total 3 columns):\n",
            " #   Column   Non-Null Count    Dtype \n",
            "---  ------   --------------    ----- \n",
            " 0   User_id  1149780 non-null  int64 \n",
            " 1   ISBN     1149780 non-null  object\n",
            " 2   Rating   1149780 non-null  int64 \n",
            "dtypes: int64(2), object(1)\n",
            "memory usage: 26.3+ MB\n",
            "\n",
            "\n",
            "=== Informasi Dataset: df_books ===\n",
            "<class 'pandas.core.frame.DataFrame'>\n",
            "Index: 271356 entries, 0 to 271359\n",
            "Data columns (total 5 columns):\n",
            " #   Column     Non-Null Count   Dtype \n",
            "---  ------     --------------   ----- \n",
            " 0   ISBN       271356 non-null  object\n",
            " 1   Title      271356 non-null  object\n",
            " 2   Author     271356 non-null  object\n",
            " 3   Year       271356 non-null  object\n",
            " 4   Publisher  271356 non-null  object\n",
            "dtypes: object(5)\n",
            "memory usage: 12.4+ MB\n",
            "\n"
          ]
        }
      ]
    },
    {
      "cell_type": "markdown",
      "source": [
        "\n",
        "\n",
        "Pada dataset `Users`, terdapat banyak nilai yang hilang (missing values) pada kolom `Age`, yang menunjukkan bahwa informasi usia tidak selalu tersedia untuk setiap pengguna. Sementara itu, dataset `Ratings` tidak mengandung missing values, sehingga data penilaian dapat digunakan secara utuh tanpa perlu penanganan khusus. Di sisi lain, pada dataset `Books` ditemukan 2 missing values pada kolom `Author` dan `Publisher`. Selain itu, 3 missing values pada kolom `Image-URL-L`, yang mungkin perlu dibersihkan atau diisi ulang sebelum digunakan dalam pemodelan atau analisis lanjutan."
      ],
      "metadata": {
        "id": "SfHm1R1bRYgW"
      }
    },
    {
      "cell_type": "markdown",
      "source": [
        "**Menampilkan jumlah baris dan kolom**"
      ],
      "metadata": {
        "id": "lGpojrDdruw0"
      }
    },
    {
      "cell_type": "code",
      "source": [
        "# Menampilkan jumlah baris dan kolom pada dataset df_user, df_rating, dan df_books\n",
        "print(f\"User dataset total rows: {df_user.shape[0]}, and total columns: {df_user.shape[1]}\")\n",
        "print(f\"Rating dataset total rows: {df_rating.shape[0]}, and total columns: {df_rating.shape[1]}\")\n",
        "print(f\"Books dataset total rows: {df_books.shape[0]}, and total columns: {df_books.shape[1]}\")"
      ],
      "metadata": {
        "colab": {
          "base_uri": "https://localhost:8080/"
        },
        "id": "iFJC2svKqL69",
        "outputId": "0efc20a7-5a15-4723-a0e6-ace3cb82fa0d"
      },
      "execution_count": null,
      "outputs": [
        {
          "output_type": "stream",
          "name": "stdout",
          "text": [
            "User dataset total rows: 278858, and total columns: 3\n",
            "Rating dataset total rows: 1149780, and total columns: 3\n",
            "Books dataset total rows: 271356, and total columns: 5\n"
          ]
        }
      ]
    },
    {
      "cell_type": "markdown",
      "source": [
        "\n",
        "\n",
        " Dataset Users memiliki 278.858 baris dan 3 kolom, yang mencerminkan jumlah pengguna unik beserta informasi demografis yang tersedia. Dataset Ratings terdiri dari 1.149.780 baris dan 3 kolom, menunjukkan bahwa terdapat lebih dari satu juta interaksi pengguna dengan buku dalam bentuk penilaian. Sementara itu, dataset Books mencakup 271.360 baris dan 5 kolom, yang berisi informasi detail mengenai berbagai buku seperti judul, penulis, tahun terbit, penerbit, dan URL gambar. Jumlah data yang besar ini memberikan dasar yang kuat untuk membangun sistem rekomendasi yang akurat dan komprehensif."
      ],
      "metadata": {
        "id": "mEQMX5sd4_Rl"
      }
    },
    {
      "cell_type": "markdown",
      "source": [
        "**Melakukan Visualisasi sebelum masuk ke tahap data preparation**"
      ],
      "metadata": {
        "id": "MxeFZztXwVWl"
      }
    },
    {
      "cell_type": "code",
      "source": [
        "# Menghitung 20 entri teratas berdasarkan jumlah kemunculan untuk Year, Publisher, dan Author\n",
        "df_books_qty = df_books['Year'].value_counts().reset_index(name='Count').rename(columns={'index': 'Year'}).sort_values('Count', ascending=False).head(20)\n",
        "publisher_qty = df_books['Publisher'].value_counts().reset_index(name='Count').rename(columns={'index': 'Publisher'}).sort_values('Count', ascending=False).head(20)\n",
        "author_qty = df_books['Author'].value_counts().reset_index(name='Count').rename(columns={'index': 'Author'}).sort_values('Count', ascending=False).head(20)\n",
        "\n",
        "# Setup visualisasi\n",
        "plt.figure(figsize=(20, 6))\n",
        "plt.suptitle(\"Top Contributors in Book Dataset\", fontsize=18, fontweight='bold')\n",
        "\n",
        "# Plot untuk Tahun Terbit\n",
        "plt.subplot(1, 3, 1)\n",
        "sns.barplot(data=df_books_qty, x='Year', y='Count', palette='Blues_d')  # Ganti warna ke palet biru gelap\n",
        "plt.title('Tahun Terbit Terbanyak', fontsize=14)\n",
        "plt.xlabel('Tahun', fontsize=10)\n",
        "plt.ylabel('Jumlah Buku', fontsize=10)\n",
        "plt.xticks(rotation=90, fontsize=8)\n",
        "\n",
        "# Plot untuk Penerbit Terbanyak\n",
        "plt.subplot(1, 3, 2)\n",
        "sns.barplot(data=publisher_qty, x='Publisher', y='Count', palette='Greens')  # Ganti warna ke palet hijau\n",
        "plt.title('Penerbit Terbanyak', fontsize=14)\n",
        "plt.xlabel('Penerbit', fontsize=10)\n",
        "plt.ylabel('Jumlah Buku', fontsize=10)\n",
        "plt.xticks(rotation=90, fontsize=8)\n",
        "\n",
        "# Plot untuk Penulis Terbanyak\n",
        "plt.subplot(1, 3, 3)\n",
        "sns.barplot(data=author_qty, x='Author', y='Count', palette='Oranges')  # Ganti warna ke palet oranye\n",
        "plt.title('Penulis Buku Terbanyak', fontsize=14)\n",
        "plt.xlabel('Penulis', fontsize=10)\n",
        "plt.ylabel('Jumlah Buku', fontsize=10)\n",
        "plt.xticks(rotation=90, fontsize=8)\n",
        "\n",
        "plt.tight_layout(rect=[0, 0, 1, 0.95])  # Menyesuaikan layout agar tidak terpotong oleh judul\n",
        "plt.show()\n"
      ],
      "metadata": {
        "colab": {
          "base_uri": "https://localhost:8080/",
          "height": 438
        },
        "id": "yXbS0S1VvmAD",
        "outputId": "71814744-c834-43f3-87e6-d8e8b7275d2d"
      },
      "execution_count": null,
      "outputs": [
        {
          "output_type": "display_data",
          "data": {
            "text/plain": [
              "<Figure size 2000x600 with 3 Axes>"
            ],
            "image/png": "[encoded data removed]"
          },
          "metadata": {}
        }
      ]
    },
    {
      "cell_type": "markdown",
      "source": [
        "\n",
        "\n",
        "Visualisasi menunjukkan bahwa tahun terbit terbanyak berasal dari tahun **2002**, diikuti oleh **2001** dan **2000**, masing-masing dengan jumlah buku yang sangat signifikan. Hal ini mengindikasikan bahwa dataset memiliki dominasi buku-buku yang diterbitkan pada awal 2000-an, yang mungkin dipengaruhi oleh perkembangan digitalisasi data saat itu.\n",
        "\n",
        "Untuk penerbit, **Harlequin** menjadi penyumbang terbanyak dengan lebih dari 7.000 judul buku, disusul oleh **Silhouette**, **Pocket Books**, dan **Ballantine Books**. Ini menunjukkan bahwa penerbit besar dengan fokus pada fiksi populer sangat dominan dalam dataset ini.\n",
        "\n",
        "Sementara itu, pada kategori penulis, **Agatha Christie** menjadi penulis dengan jumlah buku terbanyak, diikuti oleh **William Shakespeare**, **Ann M. Martin**, dan **Stephen King**. Banyaknya buku dari penulis-penulis terkenal ini mencerminkan popularitas dan produktivitas mereka serta bagaimana karya mereka sering dimuat dalam sistem distribusi buku global."
      ],
      "metadata": {
        "id": "bbG2H4S45mrr"
      }
    },
    {
      "cell_type": "code",
      "source": [
        "# Visualisasi distribusi rating buku dari dataset 'df_rating'\n",
        "plt.figure(figsize=(10, 6))\n",
        "sns.countplot(x='Rating', data=df_rating, palette='crest')  # Palet gradasi\n",
        "plt.title(\"Distribution of Book Ratings\", fontsize=16)\n",
        "plt.xlabel(\"Book Rating\", fontsize=12)\n",
        "plt.ylabel(\"Count\", fontsize=12)\n",
        "plt.xticks(fontsize=10)\n",
        "plt.yticks(fontsize=10)\n",
        "plt.show()"
      ],
      "metadata": {
        "colab": {
          "base_uri": "https://localhost:8080/",
          "height": 570
        },
        "id": "j3Kmzea9wbSh",
        "outputId": "099d2637-1a08-44bb-882b-9934ea361f78"
      },
      "execution_count": null,
      "outputs": [
        {
          "output_type": "display_data",
          "data": {
            "text/plain": [
              "<Figure size 1000x600 with 1 Axes>"
            ],
            "image/png": "[encoded data removed]"
          },
          "metadata": {}
        }
      ]
    },
    {
      "cell_type": "markdown",
      "source": [
        "\n",
        "\n",
        "Distribusi df_rating buku menunjukkan bahwa df_rating 0 mendominasi secara signifikan dengan jumlah lebih dari 700.000 entri. Ini mengindikasikan bahwa sebagian besar interaksi dalam dataset merupakan df_rating implisit, di mana pengguna hanya membaca atau melihat buku tanpa memberikan penilaian eksplisit.\n",
        "\n",
        "Sementara itu, untuk df_rating eksplisit (1–10), sebagian besar pengguna cenderung memberikan df_rating tinggi — terutama pada nilai 8, 10, dan 7, yang jumlahnya jauh lebih besar dibanding df_rating rendah (1–4). Pola ini mencerminkan kecenderungan pengguna untuk hanya menilai buku yang mereka sukai atau merasa puas terhadapnya, dan mengabaikan atau tidak menilai buku yang tidak disukai."
      ],
      "metadata": {
        "id": "m8a4nQCI6MdS"
      }
    },
    {
      "cell_type": "code",
      "source": [
        "# Mengambil 20 lokasi pengguna terbanyak berdasarkan jumlah kemunculannya\n",
        "df_user_location = df_user['Location'].value_counts().reset_index(name='Count').sort_values('Count', ascending=False).head(20)\n",
        "\n",
        "# Visualisasi 20 lokasi pengguna terbanyak\n",
        "plt.figure(figsize=(12, 8))\n",
        "sns.barplot(data=df_user_location, x='Location', y='Count', palette='mako')  # Palet gradasi lainnya\n",
        "plt.xticks(rotation=90, fontsize=10)\n",
        "plt.title('Top 20 User Locations', fontsize=18)\n",
        "plt.xlabel(\"Location\", fontsize=12)\n",
        "plt.ylabel(\"Count\", fontsize=12)\n",
        "plt.tight_layout()\n",
        "plt.show()"
      ],
      "metadata": {
        "colab": {
          "base_uri": "https://localhost:8080/",
          "height": 807
        },
        "id": "eTuBpMuP4L-t",
        "outputId": "9c0b29fd-6566-41fe-c650-90eb48a1ca45"
      },
      "execution_count": null,
      "outputs": [
        {
          "output_type": "display_data",
          "data": {
            "text/plain": [
              "<Figure size 1200x800 with 1 Axes>"
            ],
            "image/png": "[encoded data removed]"
          },
          "metadata": {}
        }
      ]
    },
    {
      "cell_type": "markdown",
      "source": [
        "\n",
        "\n",
        "Visualisasi menunjukkan bahwa mayoritas pengguna berasal dari negara-negara berbahasa Inggris, terutama:\n",
        "\n",
        "- London, England, United Kingdom menjadi lokasi pengguna terbanyak dengan lebih dari 2.500 pengguna.\n",
        "- Disusul oleh kota-kota besar seperti Toronto, Ontario (Canada) dan Sydney, New South Wales (Australia).\n",
        "- Beberapa kota besar di Amerika Serikat seperti Portland, Chicago, Seattle, New York, dan San Francisco juga mendominasi jumlah pengguna.\n",
        "\n",
        "Selain itu, terlihat kontribusi signifikan dari kota-kota di Eropa seperti Madrid (Spanyol), Berlin (Jerman), dan Milano (Italia) serta beberapa kota di Kanada dan Australia.\n",
        "\n",
        "Pola ini mengindikasikan bahwa data pengguna dalam dataset Book Recommendation didominasi oleh kawasan Amerika Utara, Eropa Barat, dan Australia, yang mungkin mencerminkan preferensi dan budaya literasi dari wilayah tersebut. Hal ini penting diperhatikan saat membangun sistem rekomendasi agar dapat mempertimbangkan keberagaman lokasi dan konteks budaya pengguna."
      ],
      "metadata": {
        "id": "C-M6ptOo6kkE"
      }
    },
    {
      "cell_type": "markdown",
      "source": [
        "# **Data Preparation**"
      ],
      "metadata": {
        "id": "5cxFBHLQ3zJw"
      }
    },
    {
      "cell_type": "markdown",
      "source": [
        "Pada proyek ini, tahap data preparation dilakukan untuk memastikan bahwa data yang digunakan dalam model rekomendasi berada dalam kondisi yang optimal. Tujuan utama dari tahap ini adalah untuk membersihkan dan menyesuaikan struktur data mentah agar siap digunakan dalam algoritma collaborative filtering.\n",
        "\n",
        "1. **Pembersihan Data <br>**\n",
        "Proses pembersihan data dilakukan melalui beberapa tahapan berikut:\n",
        "\n",
        "- Mengecek dan Menangani Missing Values pada Dataset User dan Books <br>\n",
        "Data diperiksa untuk mendeteksi nilai yang hilang (missing values) dan dilakukan penanganan seperti penghapusan atau imputasi tergantung pada konteks kolom yang bersangkutan.\n",
        "\n",
        "- Meengecek Duplikasi pada Masing-Masing Dataset <br>\n",
        "Duplikat pada dataset User dan Books diidentifikasi dan dihapus agar tidak mempengaruhi distribusi data maupun hasil analisis.\n",
        "\n",
        "- Menggabungkan Dataset Rating dan Books <br>\n",
        "Dataset Rating digabung dengan Books menggunakan kolom ISBN untuk memperoleh informasi buku secara lengkap dalam satu tabel.\n",
        "\n",
        "- Seleksi Pengguna dan Buku Berdasarkan Aktivitas Rating <br>\n",
        "  - Mengelompokkan data berdasarkan df_user_id, lalu memilih 20 pengguna dengan jumlah df_rating terbanyak.\n",
        "  - Mengelompokkan data berdasarkan judul buku dan mengurutkannya berdasarkan jumlah df_rating terbanyak untuk mendapatkan buku-buku yang paling sering didf_rating.\n",
        "\n",
        "- Menangani Duplikasi dan Missing Values pada Dataset Gabungan <br>\n",
        "Setelah penggabungan, dilakukan pemeriksaan ulang untuk mendeteksi duplikasi dan nilai kosong pada dataset gabungan, serta dilakukan penanganan agar data tetap bersih dan valid.\n",
        "\n",
        "- Melakukan Sampling Dataset <br>\n",
        "Karena ukuran data yang besar, dilakukan teknik sampling untuk mengambil subset data yang representatif. Hal ini dilakukan guna mempercepat proses pelatihan model tanpa mengorbankan kualitas hasil.\n",
        "\n",
        "2. **Pra-pemrosesan Data untuk Collaborative Filtering**<br>\n",
        "Setelah tahap pembersihan awal selesai, proses dilanjutkan dengan pra-pemrosesan data khusus untuk model collaborative filtering, sebagai berikut:\n",
        "\n",
        "- Menyalin Dataset <br>\n",
        "Dataset dibagi dengan membuat salinan khusus untuk kebutuhan pemodelan agar data asli tetap utuh dan tidak terpengaruh oleh proses selanjutnya.\n",
        "\n",
        "- Encoding <br>\n",
        "Kolom df_user_id dan ISBN dikonversi ke dalam format numerik agar dapat diproses oleh algoritma collaborative filtering.\n",
        "\n",
        "- Pembagian Data <br>\n",
        "Dataset yang telah diproses kemudian dibagi menjadi dua bagian: 80% untuk training dan 20% untuk testing. Data training digunakan untuk membangun model, sedangkan data testing digunakan untuk mengukur performa model pada data yang belum pernah dilihat sebelumnya.\n",
        "\n"
      ],
      "metadata": {
        "id": "a7A9Yt8i-f6m"
      }
    },
    {
      "cell_type": "markdown",
      "source": [
        "## **Mengecek dan Menangani Missing Values pada Dataset User**"
      ],
      "metadata": {
        "id": "ieyWP4RQC-44"
      }
    },
    {
      "cell_type": "code",
      "source": [
        "# Menampilkan ringkasan informasi dari dataset df_user, termasuk jumlah entri, tipe data, dan jumlah nilai non-null\n",
        "df_user.info()"
      ],
      "metadata": {
        "colab": {
          "base_uri": "https://localhost:8080/"
        },
        "id": "r2TkEekqC7wP",
        "outputId": "61c77191-0577-4a55-f023-4aab9bd9f7f0"
      },
      "execution_count": null,
      "outputs": [
        {
          "output_type": "stream",
          "name": "stdout",
          "text": [
            "<class 'pandas.core.frame.DataFrame'>\n",
            "RangeIndex: 278858 entries, 0 to 278857\n",
            "Data columns (total 3 columns):\n",
            " #   Column    Non-Null Count   Dtype  \n",
            "---  ------    --------------   -----  \n",
            " 0   User_id   278858 non-null  int64  \n",
            " 1   Location  278858 non-null  object \n",
            " 2   Age       168096 non-null  float64\n",
            "dtypes: float64(1), int64(1), object(1)\n",
            "memory usage: 6.4+ MB\n"
          ]
        }
      ]
    },
    {
      "cell_type": "code",
      "source": [
        "# Mengisi missing values pada kolom 'Age' dengan nilai yang paling sering muncul (modus)\n",
        "most_frequent_age = df_user['Age'].mode()[0]  # Ambil nilai modus\n",
        "df_user['Age'].fillna(most_frequent_age, inplace=True)  # Isi nilai NaN dengan modus"
      ],
      "metadata": {
        "id": "ZL8X-P7RRtC8"
      },
      "execution_count": null,
      "outputs": []
    },
    {
      "cell_type": "code",
      "source": [
        "# Mengecek kembali apakah masih terdapat missing values atau tidak\n",
        "df_user.info()"
      ],
      "metadata": {
        "colab": {
          "base_uri": "https://localhost:8080/"
        },
        "id": "xljPmSckSs9d",
        "outputId": "7e0a925c-7620-4412-d976-dc1020484f13"
      },
      "execution_count": null,
      "outputs": [
        {
          "output_type": "stream",
          "name": "stdout",
          "text": [
            "<class 'pandas.core.frame.DataFrame'>\n",
            "RangeIndex: 278858 entries, 0 to 278857\n",
            "Data columns (total 3 columns):\n",
            " #   Column    Non-Null Count   Dtype  \n",
            "---  ------    --------------   -----  \n",
            " 0   User_id   278858 non-null  int64  \n",
            " 1   Location  278858 non-null  object \n",
            " 2   Age       278858 non-null  float64\n",
            "dtypes: float64(1), int64(1), object(1)\n",
            "memory usage: 6.4+ MB\n"
          ]
        }
      ]
    },
    {
      "cell_type": "markdown",
      "source": [
        "\n",
        "\n",
        "Untuk menangani missing values pada kolom Age di dataset Users, dilakukan pengisian menggunakan nilai yang paling sering muncul (modus). Pendekatan ini dipilih karena nilai modus dianggap mewakili mayoritas usia pengguna dalam data yang tersedia, serta dapat meminimalkan distorsi terhadap distribusi data asli. Dengan mengisi nilai kosong menggunakan modus, proses ini membantu menjaga konsistensi data tanpa menghapus baris yang mungkin masih mengandung informasi penting lainnya.\n"
      ],
      "metadata": {
        "id": "MoFgECJg3ngF"
      }
    },
    {
      "cell_type": "markdown",
      "source": [
        "## **Mengecek dan Menangani Missing Values pada dataset Books**"
      ],
      "metadata": {
        "id": "niks5aONDM5Z"
      }
    },
    {
      "cell_type": "code",
      "source": [
        "# Menampilkan ringkasan informasi dari dataset df_books, termasuk jumlah entri, tipe data, dan jumlah nilai non-null\n",
        "df_books.info()"
      ],
      "metadata": {
        "colab": {
          "base_uri": "https://localhost:8080/"
        },
        "id": "vG6Xbi_KDTK6",
        "outputId": "ddb0c694-5ab8-4141-9795-b50bb4fa0c51"
      },
      "execution_count": null,
      "outputs": [
        {
          "output_type": "stream",
          "name": "stdout",
          "text": [
            "<class 'pandas.core.frame.DataFrame'>\n",
            "RangeIndex: 271360 entries, 0 to 271359\n",
            "Data columns (total 8 columns):\n",
            " #   Column       Non-Null Count   Dtype \n",
            "---  ------       --------------   ----- \n",
            " 0   ISBN         271360 non-null  object\n",
            " 1   Title        271360 non-null  object\n",
            " 2   Author       271358 non-null  object\n",
            " 3   Year         271360 non-null  object\n",
            " 4   Publisher    271358 non-null  object\n",
            " 5   Image-URL-S  271360 non-null  object\n",
            " 6   Image-URL-M  271360 non-null  object\n",
            " 7   Image-URL-L  271357 non-null  object\n",
            "dtypes: object(8)\n",
            "memory usage: 16.6+ MB\n"
          ]
        }
      ]
    },
    {
      "cell_type": "code",
      "source": [
        "# Menghapus baris yang memiliki missing values di kolom 'Author'\n",
        "df_books.dropna(subset=['Author'], inplace=True)\n",
        "\n",
        "# Cek kembali apakah masih ada missing values di kolom 'Autho'\n",
        "print(\"Jumlah nilai kosong pada kolom Author setelah dihapus:\", df_books['Author'].isnull().sum())"
      ],
      "metadata": {
        "colab": {
          "base_uri": "https://localhost:8080/"
        },
        "id": "R_aC1NBvDirp",
        "outputId": "36e816a1-c8a7-45e0-d1cc-06ccf9daf75e"
      },
      "execution_count": null,
      "outputs": [
        {
          "output_type": "stream",
          "name": "stdout",
          "text": [
            "Jumlah nilai kosong pada kolom Author setelah dihapus: 0\n"
          ]
        }
      ]
    },
    {
      "cell_type": "code",
      "source": [
        "# Menghapus baris yang memiliki missing values di kolom 'Publisher'\n",
        "df_books.dropna(subset=['Publisher'], inplace=True)\n",
        "\n",
        "# Cek kembali apakah masih ada missing values di kolom 'Publisher'\n",
        "print(\"Jumlah nilai kosong pada kolom Publisher setelah dihapus:\", df_books['Publisher'].isnull().sum())"
      ],
      "metadata": {
        "colab": {
          "base_uri": "https://localhost:8080/"
        },
        "id": "kFUjOg44S1Gi",
        "outputId": "641a6561-8fc8-4125-ec95-053c1585dfcf"
      },
      "execution_count": null,
      "outputs": [
        {
          "output_type": "stream",
          "name": "stdout",
          "text": [
            "Jumlah nilai kosong pada kolom Publisher setelah dihapus: 0\n"
          ]
        }
      ]
    },
    {
      "cell_type": "code",
      "source": [
        "# Menghapus kolom dari image URL S, image URL M, dan image URL L\n",
        "df_books.drop(['Image-URL-S', 'Image-URL-M', 'Image-URL-L'], axis=1, inplace=True, errors='ignore')"
      ],
      "metadata": {
        "id": "GbodNb4XTjKi"
      },
      "execution_count": null,
      "outputs": []
    },
    {
      "cell_type": "code",
      "source": [
        "# Mengecek kembali pada kolom df_books\n",
        "df_books.info()"
      ],
      "metadata": {
        "colab": {
          "base_uri": "https://localhost:8080/"
        },
        "id": "JXqos8G9Tq5N",
        "outputId": "c25acf06-1782-441a-e1f0-457eb7dce3e4"
      },
      "execution_count": null,
      "outputs": [
        {
          "output_type": "stream",
          "name": "stdout",
          "text": [
            "<class 'pandas.core.frame.DataFrame'>\n",
            "Index: 271356 entries, 0 to 271359\n",
            "Data columns (total 5 columns):\n",
            " #   Column     Non-Null Count   Dtype \n",
            "---  ------     --------------   ----- \n",
            " 0   ISBN       271356 non-null  object\n",
            " 1   Title      271356 non-null  object\n",
            " 2   Author     271356 non-null  object\n",
            " 3   Year       271356 non-null  object\n",
            " 4   Publisher  271356 non-null  object\n",
            "dtypes: object(5)\n",
            "memory usage: 12.4+ MB\n"
          ]
        }
      ]
    },
    {
      "cell_type": "markdown",
      "source": [
        "\n",
        "\n",
        "Untuk menangani missing values pada dataset Books, dilakukan dua pendekatan yang berbeda. Pada kolom `Author` dan `Publisher`, karena jumlah missing values sangat sedikit, maka baris yang mengandung nilai kosong dihapus agar tidak memengaruhi integritas data secara keseluruhan. Sementara itu, kolom `Image-URL-S`, `Image-URL-M`, dan `Image-URL-L` dihapus dari dataset karena informasi gambar tidak digunakan dalam sistem rekomendasi ini. Penghapusan kolom tersebut juga membantu menyederhanakan struktur data dan mempercepat proses pemrosesan."
      ],
      "metadata": {
        "id": "o2DeYQlc4KKL"
      }
    },
    {
      "cell_type": "markdown",
      "source": [
        "## **Mengecek apakah ada data duplikat dari masing-masing dataset**"
      ],
      "metadata": {
        "id": "7HfYRzn8UeHQ"
      }
    },
    {
      "cell_type": "code",
      "source": [
        "# Mengecek apakah ada baris duplikat pada dataset df_user\n",
        "df_user.duplicated().sum()"
      ],
      "metadata": {
        "colab": {
          "base_uri": "https://localhost:8080/"
        },
        "id": "yut7dZfIsFQ5",
        "outputId": "95f5f58f-a36a-4f45-f0ec-4679e69ef260"
      },
      "execution_count": null,
      "outputs": [
        {
          "output_type": "execute_result",
          "data": {
            "text/plain": [
              "np.int64(0)"
            ]
          },
          "metadata": {},
          "execution_count": 25
        }
      ]
    },
    {
      "cell_type": "code",
      "source": [
        "# Mengecek apakah ada baris duplikat pada dataset df_rating\n",
        "df_rating.duplicated().sum()"
      ],
      "metadata": {
        "colab": {
          "base_uri": "https://localhost:8080/"
        },
        "id": "3hvILPPtUjAn",
        "outputId": "c357bd05-70ba-494f-f98c-b27c7a35e121"
      },
      "execution_count": null,
      "outputs": [
        {
          "output_type": "execute_result",
          "data": {
            "text/plain": [
              "np.int64(0)"
            ]
          },
          "metadata": {},
          "execution_count": 26
        }
      ]
    },
    {
      "cell_type": "code",
      "source": [
        "# Mengecek apakah ada baris duplikat pada dataset df_books\n",
        "df_books.duplicated().sum()"
      ],
      "metadata": {
        "colab": {
          "base_uri": "https://localhost:8080/"
        },
        "id": "tYVvLCU0UnHL",
        "outputId": "8c9c69b1-4334-4305-e19c-8e523d7bd893"
      },
      "execution_count": null,
      "outputs": [
        {
          "output_type": "execute_result",
          "data": {
            "text/plain": [
              "np.int64(0)"
            ]
          },
          "metadata": {},
          "execution_count": 27
        }
      ]
    },
    {
      "cell_type": "markdown",
      "source": [
        "\n",
        "\n",
        "Setelah dilakukan pengecekan terhadap ketiga dataset — Users, Ratings, dan Books — tidak ditemukan adanya baris duplikat. Hal ini menunjukkan bahwa setiap entri pada data bersifat unik dan tidak ada pengulangan informasi, sehingga tidak diperlukan proses penghapusan duplikat. Kondisi ini sangat mendukung kualitas data dan memperkuat keandalan analisis serta pemodelan sistem rekomendasi yang akan dibangun."
      ],
      "metadata": {
        "id": "WPtVmEea4ZPZ"
      }
    },
    {
      "cell_type": "markdown",
      "source": [
        "## **Menggabungkan dataset df_rating dan df_books berdasarkan kolom ISBN**"
      ],
      "metadata": {
        "id": "pv52YIQXVAvC"
      }
    },
    {
      "cell_type": "code",
      "source": [
        "# Menggabungkan data df_rating dengan data buku berdasarkan ISBN\n",
        "data_merged = df_rating.merge(df_books, on='ISBN')\n",
        "\n",
        "# Menampilkan dimensi dari DataFrame hasil gabungan\n",
        "data_merged.shape"
      ],
      "metadata": {
        "colab": {
          "base_uri": "https://localhost:8080/"
        },
        "id": "MjuDArIm4sj8",
        "outputId": "eea87c4b-f318-4fd9-cfa1-4c475f5215d7"
      },
      "execution_count": null,
      "outputs": [
        {
          "output_type": "execute_result",
          "data": {
            "text/plain": [
              "(1031132, 7)"
            ]
          },
          "metadata": {},
          "execution_count": 28
        }
      ]
    },
    {
      "cell_type": "code",
      "source": [
        "# Menampilkan 2 baris pertama dari DataFrame 'data_merged'\n",
        "# Ini berguna untuk melihat seperti apa struktur dan isi data setelah proses merge.\n",
        "data_merged.head(2)"
      ],
      "metadata": {
        "colab": {
          "base_uri": "https://localhost:8080/",
          "height": 112
        },
        "id": "HUTDjAGq5VcW",
        "outputId": "133b16b2-17c9-4224-b9e6-8a9e9133b69d"
      },
      "execution_count": null,
      "outputs": [
        {
          "output_type": "execute_result",
          "data": {
            "text/plain": [
              "   User_id        ISBN  Rating                 Title      Author  Year  \\\n",
              "0   276725  034545104X       0  Flesh Tones: A Novel  M. J. Rose  2002   \n",
              "1   276726  0155061224       5      Rites of Passage  Judith Rae  2001   \n",
              "\n",
              "          Publisher  \n",
              "0  Ballantine Books  \n",
              "1            Heinle  "
            ],
            "text/html": [
              "\n",
              "  <div id=\"df-f933f6f4-9f0e-4376-b3f3-f167a907d3f1\" class=\"colab-df-container\">\n",
              "    <div>\n",
              "<style scoped>\n",
              "    .dataframe tbody tr th:only-of-type {\n",
              "        vertical-align: middle;\n",
              "    }\n",
              "\n",
              "    .dataframe tbody tr th {\n",
              "        vertical-align: top;\n",
              "    }\n",
              "\n",
              "    .dataframe thead th {\n",
              "        text-align: right;\n",
              "    }\n",
              "</style>\n",
              "<table border=\"1\" class=\"dataframe\">\n",
              "  <thead>\n",
              "    <tr style=\"text-align: right;\">\n",
              "      <th></th>\n",
              "      <th>User_id</th>\n",
              "      <th>ISBN</th>\n",
              "      <th>Rating</th>\n",
              "      <th>Title</th>\n",
              "      <th>Author</th>\n",
              "      <th>Year</th>\n",
              "      <th>Publisher</th>\n",
              "    </tr>\n",
              "  </thead>\n",
              "  <tbody>\n",
              "    <tr>\n",
              "      <th>0</th>\n",
              "      <td>276725</td>\n",
              "      <td>034545104X</td>\n",
              "      <td>0</td>\n",
              "      <td>Flesh Tones: A Novel</td>\n",
              "      <td>M. J. Rose</td>\n",
              "      <td>2002</td>\n",
              "      <td>Ballantine Books</td>\n",
              "    </tr>\n",
              "    <tr>\n",
              "      <th>1</th>\n",
              "      <td>276726</td>\n",
              "      <td>0155061224</td>\n",
              "      <td>5</td>\n",
              "      <td>Rites of Passage</td>\n",
              "      <td>Judith Rae</td>\n",
              "      <td>2001</td>\n",
              "      <td>Heinle</td>\n",
              "    </tr>\n",
              "  </tbody>\n",
              "</table>\n",
              "</div>\n",
              "    <div class=\"colab-df-buttons\">\n",
              "\n",
              "  <div class=\"colab-df-container\">\n",
              "    <button class=\"colab-df-convert\" onclick=\"convertToInteractive('df-f933f6f4-9f0e-4376-b3f3-f167a907d3f1')\"\n",
              "            title=\"Convert this dataframe to an interactive table.\"\n",
              "            style=\"display:none;\">\n",
              "\n",
              "  <svg xmlns=\"http://www.w3.org/2000/svg\" height=\"24px\" viewBox=\"0 -960 960 960\">\n",
              "    <path d=\"M120-120v-720h720v720H120Zm60-500h600v-160H180v160Zm220 220h160v-160H400v160Zm0 220h160v-160H400v160ZM180-400h160v-160H180v160Zm440 0h160v-160H620v160ZM180-180h160v-160H180v160Zm440 0h160v-160H620v160Z\"/>\n",
              "  </svg>\n",
              "    </button>\n",
              "\n",
              "  <style>\n",
              "    .colab-df-container {\n",
              "      display:flex;\n",
              "      gap: 12px;\n",
              "    }\n",
              "\n",
              "    .colab-df-convert {\n",
              "      background-color: #E8F0FE;\n",
              "      border: none;\n",
              "      border-radius: 50%;\n",
              "      cursor: pointer;\n",
              "      display: none;\n",
              "      fill: #1967D2;\n",
              "      height: 32px;\n",
              "      padding: 0 0 0 0;\n",
              "      width: 32px;\n",
              "    }\n",
              "\n",
              "    .colab-df-convert:hover {\n",
              "      background-color: #E2EBFA;\n",
              "      box-shadow: 0px 1px 2px rgba(60, 64, 67, 0.3), 0px 1px 3px 1px rgba(60, 64, 67, 0.15);\n",
              "      fill: #174EA6;\n",
              "    }\n",
              "\n",
              "    .colab-df-buttons div {\n",
              "      margin-bottom: 4px;\n",
              "    }\n",
              "\n",
              "    [theme=dark] .colab-df-convert {\n",
              "      background-color: #3B4455;\n",
              "      fill: #D2E3FC;\n",
              "    }\n",
              "\n",
              "    [theme=dark] .colab-df-convert:hover {\n",
              "      background-color: #434B5C;\n",
              "      box-shadow: 0px 1px 3px 1px rgba(0, 0, 0, 0.15);\n",
              "      filter: drop-shadow(0px 1px 2px rgba(0, 0, 0, 0.3));\n",
              "      fill: #FFFFFF;\n",
              "    }\n",
              "  </style>\n",
              "\n",
              "    <script>\n",
              "      const buttonEl =\n",
              "        document.querySelector('#df-f933f6f4-9f0e-4376-b3f3-f167a907d3f1 button.colab-df-convert');\n",
              "      buttonEl.style.display =\n",
              "        google.colab.kernel.accessAllowed ? 'block' : 'none';\n",
              "\n",
              "      async function convertToInteractive(key) {\n",
              "        const element = document.querySelector('#df-f933f6f4-9f0e-4376-b3f3-f167a907d3f1');\n",
              "        const dataTable =\n",
              "          await google.colab.kernel.invokeFunction('convertToInteractive',\n",
              "                                                    [key], {});\n",
              "        if (!dataTable) return;\n",
              "\n",
              "        const docLinkHtml = 'Like what you see? Visit the ' +\n",
              "          '<a target=\"_blank\" href=https://colab.research.google.com/notebooks/data_table.ipynb>data table notebook</a>'\n",
              "          + ' to learn more about interactive tables.';\n",
              "        element.innerHTML = '';\n",
              "        dataTable['output_type'] = 'display_data';\n",
              "        await google.colab.output.renderOutput(dataTable, element);\n",
              "        const docLink = document.createElement('div');\n",
              "        docLink.innerHTML = docLinkHtml;\n",
              "        element.appendChild(docLink);\n",
              "      }\n",
              "    </script>\n",
              "  </div>\n",
              "\n",
              "\n",
              "    <div id=\"df-373ec9b8-f27d-4f2a-960e-985d98f64111\">\n",
              "      <button class=\"colab-df-quickchart\" onclick=\"quickchart('df-373ec9b8-f27d-4f2a-960e-985d98f64111')\"\n",
              "                title=\"Suggest charts\"\n",
              "                style=\"display:none;\">\n",
              "\n",
              "<svg xmlns=\"http://www.w3.org/2000/svg\" height=\"24px\"viewBox=\"0 0 24 24\"\n",
              "     width=\"24px\">\n",
              "    <g>\n",
              "        <path d=\"M19 3H5c-1.1 0-2 .9-2 2v14c0 1.1.9 2 2 2h14c1.1 0 2-.9 2-2V5c0-1.1-.9-2-2-2zM9 17H7v-7h2v7zm4 0h-2V7h2v10zm4 0h-2v-4h2v4z\"/>\n",
              "    </g>\n",
              "</svg>\n",
              "      </button>\n",
              "\n",
              "<style>\n",
              "  .colab-df-quickchart {\n",
              "      --bg-color: #E8F0FE;\n",
              "      --fill-color: #1967D2;\n",
              "      --hover-bg-color: #E2EBFA;\n",
              "      --hover-fill-color: #174EA6;\n",
              "      --disabled-fill-color: #AAA;\n",
              "      --disabled-bg-color: #DDD;\n",
              "  }\n",
              "\n",
              "  [theme=dark] .colab-df-quickchart {\n",
              "      --bg-color: #3B4455;\n",
              "      --fill-color: #D2E3FC;\n",
              "      --hover-bg-color: #434B5C;\n",
              "      --hover-fill-color: #FFFFFF;\n",
              "      --disabled-bg-color: #3B4455;\n",
              "      --disabled-fill-color: #666;\n",
              "  }\n",
              "\n",
              "  .colab-df-quickchart {\n",
              "    background-color: var(--bg-color);\n",
              "    border: none;\n",
              "    border-radius: 50%;\n",
              "    cursor: pointer;\n",
              "    display: none;\n",
              "    fill: var(--fill-color);\n",
              "    height: 32px;\n",
              "    padding: 0;\n",
              "    width: 32px;\n",
              "  }\n",
              "\n",
              "  .colab-df-quickchart:hover {\n",
              "    background-color: var(--hover-bg-color);\n",
              "    box-shadow: 0 1px 2px rgba(60, 64, 67, 0.3), 0 1px 3px 1px rgba(60, 64, 67, 0.15);\n",
              "    fill: var(--button-hover-fill-color);\n",
              "  }\n",
              "\n",
              "  .colab-df-quickchart-complete:disabled,\n",
              "  .colab-df-quickchart-complete:disabled:hover {\n",
              "    background-color: var(--disabled-bg-color);\n",
              "    fill: var(--disabled-fill-color);\n",
              "    box-shadow: none;\n",
              "  }\n",
              "\n",
              "  .colab-df-spinner {\n",
              "    border: 2px solid var(--fill-color);\n",
              "    border-color: transparent;\n",
              "    border-bottom-color: var(--fill-color);\n",
              "    animation:\n",
              "      spin 1s steps(1) infinite;\n",
              "  }\n",
              "\n",
              "  @keyframes spin {\n",
              "    0% {\n",
              "      border-color: transparent;\n",
              "      border-bottom-color: var(--fill-color);\n",
              "      border-left-color: var(--fill-color);\n",
              "    }\n",
              "    20% {\n",
              "      border-color: transparent;\n",
              "      border-left-color: var(--fill-color);\n",
              "      border-top-color: var(--fill-color);\n",
              "    }\n",
              "    30% {\n",
              "      border-color: transparent;\n",
              "      border-left-color: var(--fill-color);\n",
              "      border-top-color: var(--fill-color);\n",
              "      border-right-color: var(--fill-color);\n",
              "    }\n",
              "    40% {\n",
              "      border-color: transparent;\n",
              "      border-right-color: var(--fill-color);\n",
              "      border-top-color: var(--fill-color);\n",
              "    }\n",
              "    60% {\n",
              "      border-color: transparent;\n",
              "      border-right-color: var(--fill-color);\n",
              "    }\n",
              "    80% {\n",
              "      border-color: transparent;\n",
              "      border-right-color: var(--fill-color);\n",
              "      border-bottom-color: var(--fill-color);\n",
              "    }\n",
              "    90% {\n",
              "      border-color: transparent;\n",
              "      border-bottom-color: var(--fill-color);\n",
              "    }\n",
              "  }\n",
              "</style>\n",
              "\n",
              "      <script>\n",
              "        async function quickchart(key) {\n",
              "          const quickchartButtonEl =\n",
              "            document.querySelector('#' + key + ' button');\n",
              "          quickchartButtonEl.disabled = true;  // To prevent multiple clicks.\n",
              "          quickchartButtonEl.classList.add('colab-df-spinner');\n",
              "          try {\n",
              "            const charts = await google.colab.kernel.invokeFunction(\n",
              "                'suggestCharts', [key], {});\n",
              "          } catch (error) {\n",
              "            console.error('Error during call to suggestCharts:', error);\n",
              "          }\n",
              "          quickchartButtonEl.classList.remove('colab-df-spinner');\n",
              "          quickchartButtonEl.classList.add('colab-df-quickchart-complete');\n",
              "        }\n",
              "        (() => {\n",
              "          let quickchartButtonEl =\n",
              "            document.querySelector('#df-373ec9b8-f27d-4f2a-960e-985d98f64111 button');\n",
              "          quickchartButtonEl.style.display =\n",
              "            google.colab.kernel.accessAllowed ? 'block' : 'none';\n",
              "        })();\n",
              "      </script>\n",
              "    </div>\n",
              "\n",
              "    </div>\n",
              "  </div>\n"
            ],
            "application/vnd.google.colaboratory.intrinsic+json": {
              "type": "dataframe",
              "variable_name": "data_merged"
            }
          },
          "metadata": {},
          "execution_count": 29
        }
      ]
    },
    {
      "cell_type": "markdown",
      "source": [
        "\n",
        "\n",
        "Data df_rating dan buku berhasil digabungkan berdasarkan ISBN, menghasilkan lebih dari 1 juta baris data. Setiap interaksi pengguna kini dilengkapi informasi df_user_id, ISBN, df_rating, judul, penulis, tahun terbit, dan penerbit buku. Gabungan ini menjadi dasar penting untuk membangun sistem rekomendasi yang lebih akurat dan kontekstual."
      ],
      "metadata": {
        "id": "I9syU52t8hl3"
      }
    },
    {
      "cell_type": "markdown",
      "source": [
        "## **Mengelompokkan data df_rating berdasarkan df_user_id dan menggambil 20 pengguna dengan jumlah df_rating terbanyak**"
      ],
      "metadata": {
        "id": "13qvqXeAUwuy"
      }
    },
    {
      "cell_type": "code",
      "source": [
        "# Mengelompokkan data df_rating berdasarkan User_id, lalu menghitung jumlah dan rata-rata df_rating yang diberikan oleh masing-masing pengguna\n",
        "User_df_rating = df_rating.groupby(['User_id'])['Rating'].agg(['count', 'mean']).reset_index()\n",
        "\n",
        "# Mengganti nama kolom 'count' menjadi 'Count' agar lebih deskriptif\n",
        "User_df_rating.rename(columns={'count': 'Count'}, inplace=True)\n",
        "\n",
        "# Mengurutkan pengguna berdasarkan jumlah df_rating terbanyak, ambil 20 teratas\n",
        "User_df_rating = User_df_rating.sort_values('Count', ascending=False).head(20)\n",
        "\n",
        "# Menampilkan hasil akhir\n",
        "User_df_rating"
      ],
      "metadata": {
        "colab": {
          "base_uri": "https://localhost:8080/",
          "height": 676
        },
        "id": "8AzvmjuQ4eno",
        "outputId": "606ecaea-61c7-4c14-f05b-f33917396cb9"
      },
      "execution_count": null,
      "outputs": [
        {
          "output_type": "execute_result",
          "data": {
            "text/plain": [
              "        User_id  Count      mean\n",
              "4213      11676  13602  4.564917\n",
              "74815    198711   7550  0.016291\n",
              "58113    153662   6109  2.786872\n",
              "37356     98391   5891  8.728230\n",
              "13576     35859   5850  1.075897\n",
              "80185    212898   4785  0.003135\n",
              "105111   278418   4533  0.159276\n",
              "28884     76352   3367  0.145233\n",
              "42037    110973   3100  0.787742\n",
              "88584    235105   3067  2.671992\n",
              "86808    230522   2991  0.911735\n",
              "6111      16795   2948  2.334803\n",
              "88400    234623   2674  0.132760\n",
              "13950     36836   2529  0.480427\n",
              "19872     52584   2512  0.477309\n",
              "92807    245963   2507  0.140806\n",
              "77063    204864   2504  1.780751\n",
              "21044     55492   2459  0.372102\n",
              "69817    185233   2448  1.524918\n",
              "64531    171118   2421  3.147047"
            ],
            "text/html": [
              "\n",
              "  <div id=\"df-92bbee0e-db8d-4e8e-987a-64727d24546b\" class=\"colab-df-container\">\n",
              "    <div>\n",
              "<style scoped>\n",
              "    .dataframe tbody tr th:only-of-type {\n",
              "        vertical-align: middle;\n",
              "    }\n",
              "\n",
              "    .dataframe tbody tr th {\n",
              "        vertical-align: top;\n",
              "    }\n",
              "\n",
              "    .dataframe thead th {\n",
              "        text-align: right;\n",
              "    }\n",
              "</style>\n",
              "<table border=\"1\" class=\"dataframe\">\n",
              "  <thead>\n",
              "    <tr style=\"text-align: right;\">\n",
              "      <th></th>\n",
              "      <th>User_id</th>\n",
              "      <th>Count</th>\n",
              "      <th>mean</th>\n",
              "    </tr>\n",
              "  </thead>\n",
              "  <tbody>\n",
              "    <tr>\n",
              "      <th>4213</th>\n",
              "      <td>11676</td>\n",
              "      <td>13602</td>\n",
              "      <td>4.564917</td>\n",
              "    </tr>\n",
              "    <tr>\n",
              "      <th>74815</th>\n",
              "      <td>198711</td>\n",
              "      <td>7550</td>\n",
              "      <td>0.016291</td>\n",
              "    </tr>\n",
              "    <tr>\n",
              "      <th>58113</th>\n",
              "      <td>153662</td>\n",
              "      <td>6109</td>\n",
              "      <td>2.786872</td>\n",
              "    </tr>\n",
              "    <tr>\n",
              "      <th>37356</th>\n",
              "      <td>98391</td>\n",
              "      <td>5891</td>\n",
              "      <td>8.728230</td>\n",
              "    </tr>\n",
              "    <tr>\n",
              "      <th>13576</th>\n",
              "      <td>35859</td>\n",
              "      <td>5850</td>\n",
              "      <td>1.075897</td>\n",
              "    </tr>\n",
              "    <tr>\n",
              "      <th>80185</th>\n",
              "      <td>212898</td>\n",
              "      <td>4785</td>\n",
              "      <td>0.003135</td>\n",
              "    </tr>\n",
              "    <tr>\n",
              "      <th>105111</th>\n",
              "      <td>278418</td>\n",
              "      <td>4533</td>\n",
              "      <td>0.159276</td>\n",
              "    </tr>\n",
              "    <tr>\n",
              "      <th>28884</th>\n",
              "      <td>76352</td>\n",
              "      <td>3367</td>\n",
              "      <td>0.145233</td>\n",
              "    </tr>\n",
              "    <tr>\n",
              "      <th>42037</th>\n",
              "      <td>110973</td>\n",
              "      <td>3100</td>\n",
              "      <td>0.787742</td>\n",
              "    </tr>\n",
              "    <tr>\n",
              "      <th>88584</th>\n",
              "      <td>235105</td>\n",
              "      <td>3067</td>\n",
              "      <td>2.671992</td>\n",
              "    </tr>\n",
              "    <tr>\n",
              "      <th>86808</th>\n",
              "      <td>230522</td>\n",
              "      <td>2991</td>\n",
              "      <td>0.911735</td>\n",
              "    </tr>\n",
              "    <tr>\n",
              "      <th>6111</th>\n",
              "      <td>16795</td>\n",
              "      <td>2948</td>\n",
              "      <td>2.334803</td>\n",
              "    </tr>\n",
              "    <tr>\n",
              "      <th>88400</th>\n",
              "      <td>234623</td>\n",
              "      <td>2674</td>\n",
              "      <td>0.132760</td>\n",
              "    </tr>\n",
              "    <tr>\n",
              "      <th>13950</th>\n",
              "      <td>36836</td>\n",
              "      <td>2529</td>\n",
              "      <td>0.480427</td>\n",
              "    </tr>\n",
              "    <tr>\n",
              "      <th>19872</th>\n",
              "      <td>52584</td>\n",
              "      <td>2512</td>\n",
              "      <td>0.477309</td>\n",
              "    </tr>\n",
              "    <tr>\n",
              "      <th>92807</th>\n",
              "      <td>245963</td>\n",
              "      <td>2507</td>\n",
              "      <td>0.140806</td>\n",
              "    </tr>\n",
              "    <tr>\n",
              "      <th>77063</th>\n",
              "      <td>204864</td>\n",
              "      <td>2504</td>\n",
              "      <td>1.780751</td>\n",
              "    </tr>\n",
              "    <tr>\n",
              "      <th>21044</th>\n",
              "      <td>55492</td>\n",
              "      <td>2459</td>\n",
              "      <td>0.372102</td>\n",
              "    </tr>\n",
              "    <tr>\n",
              "      <th>69817</th>\n",
              "      <td>185233</td>\n",
              "      <td>2448</td>\n",
              "      <td>1.524918</td>\n",
              "    </tr>\n",
              "    <tr>\n",
              "      <th>64531</th>\n",
              "      <td>171118</td>\n",
              "      <td>2421</td>\n",
              "      <td>3.147047</td>\n",
              "    </tr>\n",
              "  </tbody>\n",
              "</table>\n",
              "</div>\n",
              "    <div class=\"colab-df-buttons\">\n",
              "\n",
              "  <div class=\"colab-df-container\">\n",
              "    <button class=\"colab-df-convert\" onclick=\"convertToInteractive('df-92bbee0e-db8d-4e8e-987a-64727d24546b')\"\n",
              "            title=\"Convert this dataframe to an interactive table.\"\n",
              "            style=\"display:none;\">\n",
              "\n",
              "  <svg xmlns=\"http://www.w3.org/2000/svg\" height=\"24px\" viewBox=\"0 -960 960 960\">\n",
              "    <path d=\"M120-120v-720h720v720H120Zm60-500h600v-160H180v160Zm220 220h160v-160H400v160Zm0 220h160v-160H400v160ZM180-400h160v-160H180v160Zm440 0h160v-160H620v160ZM180-180h160v-160H180v160Zm440 0h160v-160H620v160Z\"/>\n",
              "  </svg>\n",
              "    </button>\n",
              "\n",
              "  <style>\n",
              "    .colab-df-container {\n",
              "      display:flex;\n",
              "      gap: 12px;\n",
              "    }\n",
              "\n",
              "    .colab-df-convert {\n",
              "      background-color: #E8F0FE;\n",
              "      border: none;\n",
              "      border-radius: 50%;\n",
              "      cursor: pointer;\n",
              "      display: none;\n",
              "      fill: #1967D2;\n",
              "      height: 32px;\n",
              "      padding: 0 0 0 0;\n",
              "      width: 32px;\n",
              "    }\n",
              "\n",
              "    .colab-df-convert:hover {\n",
              "      background-color: #E2EBFA;\n",
              "      box-shadow: 0px 1px 2px rgba(60, 64, 67, 0.3), 0px 1px 3px 1px rgba(60, 64, 67, 0.15);\n",
              "      fill: #174EA6;\n",
              "    }\n",
              "\n",
              "    .colab-df-buttons div {\n",
              "      margin-bottom: 4px;\n",
              "    }\n",
              "\n",
              "    [theme=dark] .colab-df-convert {\n",
              "      background-color: #3B4455;\n",
              "      fill: #D2E3FC;\n",
              "    }\n",
              "\n",
              "    [theme=dark] .colab-df-convert:hover {\n",
              "      background-color: #434B5C;\n",
              "      box-shadow: 0px 1px 3px 1px rgba(0, 0, 0, 0.15);\n",
              "      filter: drop-shadow(0px 1px 2px rgba(0, 0, 0, 0.3));\n",
              "      fill: #FFFFFF;\n",
              "    }\n",
              "  </style>\n",
              "\n",
              "    <script>\n",
              "      const buttonEl =\n",
              "        document.querySelector('#df-92bbee0e-db8d-4e8e-987a-64727d24546b button.colab-df-convert');\n",
              "      buttonEl.style.display =\n",
              "        google.colab.kernel.accessAllowed ? 'block' : 'none';\n",
              "\n",
              "      async function convertToInteractive(key) {\n",
              "        const element = document.querySelector('#df-92bbee0e-db8d-4e8e-987a-64727d24546b');\n",
              "        const dataTable =\n",
              "          await google.colab.kernel.invokeFunction('convertToInteractive',\n",
              "                                                    [key], {});\n",
              "        if (!dataTable) return;\n",
              "\n",
              "        const docLinkHtml = 'Like what you see? Visit the ' +\n",
              "          '<a target=\"_blank\" href=https://colab.research.google.com/notebooks/data_table.ipynb>data table notebook</a>'\n",
              "          + ' to learn more about interactive tables.';\n",
              "        element.innerHTML = '';\n",
              "        dataTable['output_type'] = 'display_data';\n",
              "        await google.colab.output.renderOutput(dataTable, element);\n",
              "        const docLink = document.createElement('div');\n",
              "        docLink.innerHTML = docLinkHtml;\n",
              "        element.appendChild(docLink);\n",
              "      }\n",
              "    </script>\n",
              "  </div>\n",
              "\n",
              "\n",
              "    <div id=\"df-2ede77fd-7338-4a38-a3c6-810bcef5e0f1\">\n",
              "      <button class=\"colab-df-quickchart\" onclick=\"quickchart('df-2ede77fd-7338-4a38-a3c6-810bcef5e0f1')\"\n",
              "                title=\"Suggest charts\"\n",
              "                style=\"display:none;\">\n",
              "\n",
              "<svg xmlns=\"http://www.w3.org/2000/svg\" height=\"24px\"viewBox=\"0 0 24 24\"\n",
              "     width=\"24px\">\n",
              "    <g>\n",
              "        <path d=\"M19 3H5c-1.1 0-2 .9-2 2v14c0 1.1.9 2 2 2h14c1.1 0 2-.9 2-2V5c0-1.1-.9-2-2-2zM9 17H7v-7h2v7zm4 0h-2V7h2v10zm4 0h-2v-4h2v4z\"/>\n",
              "    </g>\n",
              "</svg>\n",
              "      </button>\n",
              "\n",
              "<style>\n",
              "  .colab-df-quickchart {\n",
              "      --bg-color: #E8F0FE;\n",
              "      --fill-color: #1967D2;\n",
              "      --hover-bg-color: #E2EBFA;\n",
              "      --hover-fill-color: #174EA6;\n",
              "      --disabled-fill-color: #AAA;\n",
              "      --disabled-bg-color: #DDD;\n",
              "  }\n",
              "\n",
              "  [theme=dark] .colab-df-quickchart {\n",
              "      --bg-color: #3B4455;\n",
              "      --fill-color: #D2E3FC;\n",
              "      --hover-bg-color: #434B5C;\n",
              "      --hover-fill-color: #FFFFFF;\n",
              "      --disabled-bg-color: #3B4455;\n",
              "      --disabled-fill-color: #666;\n",
              "  }\n",
              "\n",
              "  .colab-df-quickchart {\n",
              "    background-color: var(--bg-color);\n",
              "    border: none;\n",
              "    border-radius: 50%;\n",
              "    cursor: pointer;\n",
              "    display: none;\n",
              "    fill: var(--fill-color);\n",
              "    height: 32px;\n",
              "    padding: 0;\n",
              "    width: 32px;\n",
              "  }\n",
              "\n",
              "  .colab-df-quickchart:hover {\n",
              "    background-color: var(--hover-bg-color);\n",
              "    box-shadow: 0 1px 2px rgba(60, 64, 67, 0.3), 0 1px 3px 1px rgba(60, 64, 67, 0.15);\n",
              "    fill: var(--button-hover-fill-color);\n",
              "  }\n",
              "\n",
              "  .colab-df-quickchart-complete:disabled,\n",
              "  .colab-df-quickchart-complete:disabled:hover {\n",
              "    background-color: var(--disabled-bg-color);\n",
              "    fill: var(--disabled-fill-color);\n",
              "    box-shadow: none;\n",
              "  }\n",
              "\n",
              "  .colab-df-spinner {\n",
              "    border: 2px solid var(--fill-color);\n",
              "    border-color: transparent;\n",
              "    border-bottom-color: var(--fill-color);\n",
              "    animation:\n",
              "      spin 1s steps(1) infinite;\n",
              "  }\n",
              "\n",
              "  @keyframes spin {\n",
              "    0% {\n",
              "      border-color: transparent;\n",
              "      border-bottom-color: var(--fill-color);\n",
              "      border-left-color: var(--fill-color);\n",
              "    }\n",
              "    20% {\n",
              "      border-color: transparent;\n",
              "      border-left-color: var(--fill-color);\n",
              "      border-top-color: var(--fill-color);\n",
              "    }\n",
              "    30% {\n",
              "      border-color: transparent;\n",
              "      border-left-color: var(--fill-color);\n",
              "      border-top-color: var(--fill-color);\n",
              "      border-right-color: var(--fill-color);\n",
              "    }\n",
              "    40% {\n",
              "      border-color: transparent;\n",
              "      border-right-color: var(--fill-color);\n",
              "      border-top-color: var(--fill-color);\n",
              "    }\n",
              "    60% {\n",
              "      border-color: transparent;\n",
              "      border-right-color: var(--fill-color);\n",
              "    }\n",
              "    80% {\n",
              "      border-color: transparent;\n",
              "      border-right-color: var(--fill-color);\n",
              "      border-bottom-color: var(--fill-color);\n",
              "    }\n",
              "    90% {\n",
              "      border-color: transparent;\n",
              "      border-bottom-color: var(--fill-color);\n",
              "    }\n",
              "  }\n",
              "</style>\n",
              "\n",
              "      <script>\n",
              "        async function quickchart(key) {\n",
              "          const quickchartButtonEl =\n",
              "            document.querySelector('#' + key + ' button');\n",
              "          quickchartButtonEl.disabled = true;  // To prevent multiple clicks.\n",
              "          quickchartButtonEl.classList.add('colab-df-spinner');\n",
              "          try {\n",
              "            const charts = await google.colab.kernel.invokeFunction(\n",
              "                'suggestCharts', [key], {});\n",
              "          } catch (error) {\n",
              "            console.error('Error during call to suggestCharts:', error);\n",
              "          }\n",
              "          quickchartButtonEl.classList.remove('colab-df-spinner');\n",
              "          quickchartButtonEl.classList.add('colab-df-quickchart-complete');\n",
              "        }\n",
              "        (() => {\n",
              "          let quickchartButtonEl =\n",
              "            document.querySelector('#df-2ede77fd-7338-4a38-a3c6-810bcef5e0f1 button');\n",
              "          quickchartButtonEl.style.display =\n",
              "            google.colab.kernel.accessAllowed ? 'block' : 'none';\n",
              "        })();\n",
              "      </script>\n",
              "    </div>\n",
              "\n",
              "  <div id=\"id_62ca11bf-35a7-42cb-a7e4-3cad5e9f5a0d\">\n",
              "    <style>\n",
              "      .colab-df-generate {\n",
              "        background-color: #E8F0FE;\n",
              "        border: none;\n",
              "        border-radius: 50%;\n",
              "        cursor: pointer;\n",
              "        display: none;\n",
              "        fill: #1967D2;\n",
              "        height: 32px;\n",
              "        padding: 0 0 0 0;\n",
              "        width: 32px;\n",
              "      }\n",
              "\n",
              "      .colab-df-generate:hover {\n",
              "        background-color: #E2EBFA;\n",
              "        box-shadow: 0px 1px 2px rgba(60, 64, 67, 0.3), 0px 1px 3px 1px rgba(60, 64, 67, 0.15);\n",
              "        fill: #174EA6;\n",
              "      }\n",
              "\n",
              "      [theme=dark] .colab-df-generate {\n",
              "        background-color: #3B4455;\n",
              "        fill: #D2E3FC;\n",
              "      }\n",
              "\n",
              "      [theme=dark] .colab-df-generate:hover {\n",
              "        background-color: #434B5C;\n",
              "        box-shadow: 0px 1px 3px 1px rgba(0, 0, 0, 0.15);\n",
              "        filter: drop-shadow(0px 1px 2px rgba(0, 0, 0, 0.3));\n",
              "        fill: #FFFFFF;\n",
              "      }\n",
              "    </style>\n",
              "    <button class=\"colab-df-generate\" onclick=\"generateWithVariable('User_df_rating')\"\n",
              "            title=\"Generate code using this dataframe.\"\n",
              "            style=\"display:none;\">\n",
              "\n",
              "  <svg xmlns=\"http://www.w3.org/2000/svg\" height=\"24px\"viewBox=\"0 0 24 24\"\n",
              "       width=\"24px\">\n",
              "    <path d=\"M7,19H8.4L18.45,9,17,7.55,7,17.6ZM5,21V16.75L18.45,3.32a2,2,0,0,1,2.83,0l1.4,1.43a1.91,1.91,0,0,1,.58,1.4,1.91,1.91,0,0,1-.58,1.4L9.25,21ZM18.45,9,17,7.55Zm-12,3A5.31,5.31,0,0,0,4.9,8.1,5.31,5.31,0,0,0,1,6.5,5.31,5.31,0,0,0,4.9,4.9,5.31,5.31,0,0,0,6.5,1,5.31,5.31,0,0,0,8.1,4.9,5.31,5.31,0,0,0,12,6.5,5.46,5.46,0,0,0,6.5,12Z\"/>\n",
              "  </svg>\n",
              "    </button>\n",
              "    <script>\n",
              "      (() => {\n",
              "      const buttonEl =\n",
              "        document.querySelector('#id_62ca11bf-35a7-42cb-a7e4-3cad5e9f5a0d button.colab-df-generate');\n",
              "      buttonEl.style.display =\n",
              "        google.colab.kernel.accessAllowed ? 'block' : 'none';\n",
              "\n",
              "      buttonEl.onclick = () => {\n",
              "        google.colab.notebook.generateWithVariable('User_df_rating');\n",
              "      }\n",
              "      })();\n",
              "    </script>\n",
              "  </div>\n",
              "\n",
              "    </div>\n",
              "  </div>\n"
            ],
            "application/vnd.google.colaboratory.intrinsic+json": {
              "type": "dataframe",
              "variable_name": "User_df_rating",
              "summary": "{\n  \"name\": \"User_df_rating\",\n  \"rows\": 20,\n  \"fields\": [\n    {\n      \"column\": \"User_id\",\n      \"properties\": {\n        \"dtype\": \"number\",\n        \"std\": 88015,\n        \"min\": 11676,\n        \"max\": 278418,\n        \"num_unique_values\": 20,\n        \"samples\": [\n          11676,\n          55492,\n          245963\n        ],\n        \"semantic_type\": \"\",\n        \"description\": \"\"\n      }\n    },\n    {\n      \"column\": \"Count\",\n      \"properties\": {\n        \"dtype\": \"number\",\n        \"std\": 2699,\n        \"min\": 2421,\n        \"max\": 13602,\n        \"num_unique_values\": 20,\n        \"samples\": [\n          13602,\n          2459,\n          2507\n        ],\n        \"semantic_type\": \"\",\n        \"description\": \"\"\n      }\n    },\n    {\n      \"column\": \"mean\",\n      \"properties\": {\n        \"dtype\": \"number\",\n        \"std\": 2.103766466023403,\n        \"min\": 0.003134796238244514,\n        \"max\": 8.728229502631132,\n        \"num_unique_values\": 20,\n        \"samples\": [\n          4.564916923981768,\n          0.37210248068320456,\n          0.14080574391703232\n        ],\n        \"semantic_type\": \"\",\n        \"description\": \"\"\n      }\n    }\n  ]\n}"
            }
          },
          "metadata": {},
          "execution_count": 30
        }
      ]
    },
    {
      "cell_type": "markdown",
      "source": [
        "\n",
        "\n",
        "Dari analisis data df_rating, ditemukan 20 pengguna paling aktif dengan jumlah df_rating terbanyak. Informasi ini penting karena pengguna aktif berkontribusi besar dalam membentuk pola rekomendasi sistem. Rata-rata df_rating yang mereka berikan juga membantu memahami kecenderungan penilaian masing-masing pengguna, yang berguna untuk meningkatkan akurasi rekomendasi."
      ],
      "metadata": {
        "id": "MURfuZp77smq"
      }
    },
    {
      "cell_type": "markdown",
      "source": [
        "## **Mengelompokkan data berdasarkan judul buku dan mengurutkan dari jumlah df_rating terbanyak**"
      ],
      "metadata": {
        "id": "iSyCKoRi89ro"
      }
    },
    {
      "cell_type": "code",
      "source": [
        "# Mengelompokkan data berdasarkan judul buku ('Title') dan menghitung:\n",
        "# - jumlah df_rating (count)\n",
        "# - rata-rata df_rating (mean)\n",
        "title_df_rating = (\n",
        "    data_merged\n",
        "    .groupby(['Title'])['Rating']\n",
        "    .agg(['count', 'mean'])               # Hitung jumlah dan rata-rata df_rating per judul buku\n",
        "    .reset_index()                        # Reset index agar 'Title' jadi kolom biasa lagi\n",
        "    .rename(columns={'count': 'Count'})   # Ubah nama kolom 'count' menjadi 'Count' (kapital)\n",
        "    .sort_values('Count', ascending=False) # Urutkan berdasarkan jumlah df_rating, dari yang terbanyak\n",
        "    .head(20)                             # Ambil 20 buku teratas dengan jumlah df_rating terbanyak\n",
        ")\n",
        "\n",
        "# Menampilkan hasil akhir: 20 buku paling banyak didf_rating beserta jumlah dan rata-rata df_rating-nya\n",
        "title_df_rating"
      ],
      "metadata": {
        "colab": {
          "base_uri": "https://localhost:8080/",
          "height": 676
        },
        "id": "l7eaxaWe5s-k",
        "outputId": "f06ea6c6-64e3-4062-9014-72a420dc6c52"
      },
      "execution_count": null,
      "outputs": [
        {
          "output_type": "execute_result",
          "data": {
            "text/plain": [
              "                                                    Title  Count      mean\n",
              "234948                                        Wild Animus   2502  1.019584\n",
              "196324                          The Lovely Bones: A Novel   1295  4.468726\n",
              "183571                                  The Da Vinci Code    898  4.642539\n",
              "5303                                      A Painted House    838  3.231504\n",
              "199235                         The Nanny Diaries: A Novel    828  3.530193\n",
              "27921                               Bridget Jones's Diary    815  3.527607\n",
              "206500                            The Secret Life of Bees    774  4.447028\n",
              "52982     Divine Secrets of the Ya-Ya Sisterhood: A Novel    740  3.437838\n",
              "204385                The Red Tent (Bestselling Backlist)    723  4.334716\n",
              "14391                                 Angels &amp; Demons    670  3.708955\n",
              "107961                                         Life of Pi    664  4.088855\n",
              "162650                             Snow Falling on Cedars    662  3.252266\n",
              "209296                                        The Summons    655  3.432061\n",
              "200251                                       The Notebook    650  3.560000\n",
              "210062                                      The Testament    617  3.179903\n",
              "85956                               House of Sand and Fog    588  3.030612\n",
              "233367  Where the Heart Is (Oprah's Book Club (Paperba...    585  4.105983\n",
              "201690                                  The Pelican Brief    581  2.611015\n",
              "80444   Harry Potter and the Sorcerer's Stone (Harry P...    575  4.895652\n",
              "189264            The Girls' Guide to Hunting and Fishing    573  3.139616"
            ],
            "text/html": [
              "\n",
              "  <div id=\"df-7a6a1e18-05ed-4c39-aaa4-f268e52a9fb2\" class=\"colab-df-container\">\n",
              "    <div>\n",
              "<style scoped>\n",
              "    .dataframe tbody tr th:only-of-type {\n",
              "        vertical-align: middle;\n",
              "    }\n",
              "\n",
              "    .dataframe tbody tr th {\n",
              "        vertical-align: top;\n",
              "    }\n",
              "\n",
              "    .dataframe thead th {\n",
              "        text-align: right;\n",
              "    }\n",
              "</style>\n",
              "<table border=\"1\" class=\"dataframe\">\n",
              "  <thead>\n",
              "    <tr style=\"text-align: right;\">\n",
              "      <th></th>\n",
              "      <th>Title</th>\n",
              "      <th>Count</th>\n",
              "      <th>mean</th>\n",
              "    </tr>\n",
              "  </thead>\n",
              "  <tbody>\n",
              "    <tr>\n",
              "      <th>234948</th>\n",
              "      <td>Wild Animus</td>\n",
              "      <td>2502</td>\n",
              "      <td>1.019584</td>\n",
              "    </tr>\n",
              "    <tr>\n",
              "      <th>196324</th>\n",
              "      <td>The Lovely Bones: A Novel</td>\n",
              "      <td>1295</td>\n",
              "      <td>4.468726</td>\n",
              "    </tr>\n",
              "    <tr>\n",
              "      <th>183571</th>\n",
              "      <td>The Da Vinci Code</td>\n",
              "      <td>898</td>\n",
              "      <td>4.642539</td>\n",
              "    </tr>\n",
              "    <tr>\n",
              "      <th>5303</th>\n",
              "      <td>A Painted House</td>\n",
              "      <td>838</td>\n",
              "      <td>3.231504</td>\n",
              "    </tr>\n",
              "    <tr>\n",
              "      <th>199235</th>\n",
              "      <td>The Nanny Diaries: A Novel</td>\n",
              "      <td>828</td>\n",
              "      <td>3.530193</td>\n",
              "    </tr>\n",
              "    <tr>\n",
              "      <th>27921</th>\n",
              "      <td>Bridget Jones's Diary</td>\n",
              "      <td>815</td>\n",
              "      <td>3.527607</td>\n",
              "    </tr>\n",
              "    <tr>\n",
              "      <th>206500</th>\n",
              "      <td>The Secret Life of Bees</td>\n",
              "      <td>774</td>\n",
              "      <td>4.447028</td>\n",
              "    </tr>\n",
              "    <tr>\n",
              "      <th>52982</th>\n",
              "      <td>Divine Secrets of the Ya-Ya Sisterhood: A Novel</td>\n",
              "      <td>740</td>\n",
              "      <td>3.437838</td>\n",
              "    </tr>\n",
              "    <tr>\n",
              "      <th>204385</th>\n",
              "      <td>The Red Tent (Bestselling Backlist)</td>\n",
              "      <td>723</td>\n",
              "      <td>4.334716</td>\n",
              "    </tr>\n",
              "    <tr>\n",
              "      <th>14391</th>\n",
              "      <td>Angels &amp;amp; Demons</td>\n",
              "      <td>670</td>\n",
              "      <td>3.708955</td>\n",
              "    </tr>\n",
              "    <tr>\n",
              "      <th>107961</th>\n",
              "      <td>Life of Pi</td>\n",
              "      <td>664</td>\n",
              "      <td>4.088855</td>\n",
              "    </tr>\n",
              "    <tr>\n",
              "      <th>162650</th>\n",
              "      <td>Snow Falling on Cedars</td>\n",
              "      <td>662</td>\n",
              "      <td>3.252266</td>\n",
              "    </tr>\n",
              "    <tr>\n",
              "      <th>209296</th>\n",
              "      <td>The Summons</td>\n",
              "      <td>655</td>\n",
              "      <td>3.432061</td>\n",
              "    </tr>\n",
              "    <tr>\n",
              "      <th>200251</th>\n",
              "      <td>The Notebook</td>\n",
              "      <td>650</td>\n",
              "      <td>3.560000</td>\n",
              "    </tr>\n",
              "    <tr>\n",
              "      <th>210062</th>\n",
              "      <td>The Testament</td>\n",
              "      <td>617</td>\n",
              "      <td>3.179903</td>\n",
              "    </tr>\n",
              "    <tr>\n",
              "      <th>85956</th>\n",
              "      <td>House of Sand and Fog</td>\n",
              "      <td>588</td>\n",
              "      <td>3.030612</td>\n",
              "    </tr>\n",
              "    <tr>\n",
              "      <th>233367</th>\n",
              "      <td>Where the Heart Is (Oprah's Book Club (Paperba...</td>\n",
              "      <td>585</td>\n",
              "      <td>4.105983</td>\n",
              "    </tr>\n",
              "    <tr>\n",
              "      <th>201690</th>\n",
              "      <td>The Pelican Brief</td>\n",
              "      <td>581</td>\n",
              "      <td>2.611015</td>\n",
              "    </tr>\n",
              "    <tr>\n",
              "      <th>80444</th>\n",
              "      <td>Harry Potter and the Sorcerer's Stone (Harry P...</td>\n",
              "      <td>575</td>\n",
              "      <td>4.895652</td>\n",
              "    </tr>\n",
              "    <tr>\n",
              "      <th>189264</th>\n",
              "      <td>The Girls' Guide to Hunting and Fishing</td>\n",
              "      <td>573</td>\n",
              "      <td>3.139616</td>\n",
              "    </tr>\n",
              "  </tbody>\n",
              "</table>\n",
              "</div>\n",
              "    <div class=\"colab-df-buttons\">\n",
              "\n",
              "  <div class=\"colab-df-container\">\n",
              "    <button class=\"colab-df-convert\" onclick=\"convertToInteractive('df-7a6a1e18-05ed-4c39-aaa4-f268e52a9fb2')\"\n",
              "            title=\"Convert this dataframe to an interactive table.\"\n",
              "            style=\"display:none;\">\n",
              "\n",
              "  <svg xmlns=\"http://www.w3.org/2000/svg\" height=\"24px\" viewBox=\"0 -960 960 960\">\n",
              "    <path d=\"M120-120v-720h720v720H120Zm60-500h600v-160H180v160Zm220 220h160v-160H400v160Zm0 220h160v-160H400v160ZM180-400h160v-160H180v160Zm440 0h160v-160H620v160ZM180-180h160v-160H180v160Zm440 0h160v-160H620v160Z\"/>\n",
              "  </svg>\n",
              "    </button>\n",
              "\n",
              "  <style>\n",
              "    .colab-df-container {\n",
              "      display:flex;\n",
              "      gap: 12px;\n",
              "    }\n",
              "\n",
              "    .colab-df-convert {\n",
              "      background-color: #E8F0FE;\n",
              "      border: none;\n",
              "      border-radius: 50%;\n",
              "      cursor: pointer;\n",
              "      display: none;\n",
              "      fill: #1967D2;\n",
              "      height: 32px;\n",
              "      padding: 0 0 0 0;\n",
              "      width: 32px;\n",
              "    }\n",
              "\n",
              "    .colab-df-convert:hover {\n",
              "      background-color: #E2EBFA;\n",
              "      box-shadow: 0px 1px 2px rgba(60, 64, 67, 0.3), 0px 1px 3px 1px rgba(60, 64, 67, 0.15);\n",
              "      fill: #174EA6;\n",
              "    }\n",
              "\n",
              "    .colab-df-buttons div {\n",
              "      margin-bottom: 4px;\n",
              "    }\n",
              "\n",
              "    [theme=dark] .colab-df-convert {\n",
              "      background-color: #3B4455;\n",
              "      fill: #D2E3FC;\n",
              "    }\n",
              "\n",
              "    [theme=dark] .colab-df-convert:hover {\n",
              "      background-color: #434B5C;\n",
              "      box-shadow: 0px 1px 3px 1px rgba(0, 0, 0, 0.15);\n",
              "      filter: drop-shadow(0px 1px 2px rgba(0, 0, 0, 0.3));\n",
              "      fill: #FFFFFF;\n",
              "    }\n",
              "  </style>\n",
              "\n",
              "    <script>\n",
              "      const buttonEl =\n",
              "        document.querySelector('#df-7a6a1e18-05ed-4c39-aaa4-f268e52a9fb2 button.colab-df-convert');\n",
              "      buttonEl.style.display =\n",
              "        google.colab.kernel.accessAllowed ? 'block' : 'none';\n",
              "\n",
              "      async function convertToInteractive(key) {\n",
              "        const element = document.querySelector('#df-7a6a1e18-05ed-4c39-aaa4-f268e52a9fb2');\n",
              "        const dataTable =\n",
              "          await google.colab.kernel.invokeFunction('convertToInteractive',\n",
              "                                                    [key], {});\n",
              "        if (!dataTable) return;\n",
              "\n",
              "        const docLinkHtml = 'Like what you see? Visit the ' +\n",
              "          '<a target=\"_blank\" href=https://colab.research.google.com/notebooks/data_table.ipynb>data table notebook</a>'\n",
              "          + ' to learn more about interactive tables.';\n",
              "        element.innerHTML = '';\n",
              "        dataTable['output_type'] = 'display_data';\n",
              "        await google.colab.output.renderOutput(dataTable, element);\n",
              "        const docLink = document.createElement('div');\n",
              "        docLink.innerHTML = docLinkHtml;\n",
              "        element.appendChild(docLink);\n",
              "      }\n",
              "    </script>\n",
              "  </div>\n",
              "\n",
              "\n",
              "    <div id=\"df-766c08f4-788d-4a57-9755-8ada32ae7d00\">\n",
              "      <button class=\"colab-df-quickchart\" onclick=\"quickchart('df-766c08f4-788d-4a57-9755-8ada32ae7d00')\"\n",
              "                title=\"Suggest charts\"\n",
              "                style=\"display:none;\">\n",
              "\n",
              "<svg xmlns=\"http://www.w3.org/2000/svg\" height=\"24px\"viewBox=\"0 0 24 24\"\n",
              "     width=\"24px\">\n",
              "    <g>\n",
              "        <path d=\"M19 3H5c-1.1 0-2 .9-2 2v14c0 1.1.9 2 2 2h14c1.1 0 2-.9 2-2V5c0-1.1-.9-2-2-2zM9 17H7v-7h2v7zm4 0h-2V7h2v10zm4 0h-2v-4h2v4z\"/>\n",
              "    </g>\n",
              "</svg>\n",
              "      </button>\n",
              "\n",
              "<style>\n",
              "  .colab-df-quickchart {\n",
              "      --bg-color: #E8F0FE;\n",
              "      --fill-color: #1967D2;\n",
              "      --hover-bg-color: #E2EBFA;\n",
              "      --hover-fill-color: #174EA6;\n",
              "      --disabled-fill-color: #AAA;\n",
              "      --disabled-bg-color: #DDD;\n",
              "  }\n",
              "\n",
              "  [theme=dark] .colab-df-quickchart {\n",
              "      --bg-color: #3B4455;\n",
              "      --fill-color: #D2E3FC;\n",
              "      --hover-bg-color: #434B5C;\n",
              "      --hover-fill-color: #FFFFFF;\n",
              "      --disabled-bg-color: #3B4455;\n",
              "      --disabled-fill-color: #666;\n",
              "  }\n",
              "\n",
              "  .colab-df-quickchart {\n",
              "    background-color: var(--bg-color);\n",
              "    border: none;\n",
              "    border-radius: 50%;\n",
              "    cursor: pointer;\n",
              "    display: none;\n",
              "    fill: var(--fill-color);\n",
              "    height: 32px;\n",
              "    padding: 0;\n",
              "    width: 32px;\n",
              "  }\n",
              "\n",
              "  .colab-df-quickchart:hover {\n",
              "    background-color: var(--hover-bg-color);\n",
              "    box-shadow: 0 1px 2px rgba(60, 64, 67, 0.3), 0 1px 3px 1px rgba(60, 64, 67, 0.15);\n",
              "    fill: var(--button-hover-fill-color);\n",
              "  }\n",
              "\n",
              "  .colab-df-quickchart-complete:disabled,\n",
              "  .colab-df-quickchart-complete:disabled:hover {\n",
              "    background-color: var(--disabled-bg-color);\n",
              "    fill: var(--disabled-fill-color);\n",
              "    box-shadow: none;\n",
              "  }\n",
              "\n",
              "  .colab-df-spinner {\n",
              "    border: 2px solid var(--fill-color);\n",
              "    border-color: transparent;\n",
              "    border-bottom-color: var(--fill-color);\n",
              "    animation:\n",
              "      spin 1s steps(1) infinite;\n",
              "  }\n",
              "\n",
              "  @keyframes spin {\n",
              "    0% {\n",
              "      border-color: transparent;\n",
              "      border-bottom-color: var(--fill-color);\n",
              "      border-left-color: var(--fill-color);\n",
              "    }\n",
              "    20% {\n",
              "      border-color: transparent;\n",
              "      border-left-color: var(--fill-color);\n",
              "      border-top-color: var(--fill-color);\n",
              "    }\n",
              "    30% {\n",
              "      border-color: transparent;\n",
              "      border-left-color: var(--fill-color);\n",
              "      border-top-color: var(--fill-color);\n",
              "      border-right-color: var(--fill-color);\n",
              "    }\n",
              "    40% {\n",
              "      border-color: transparent;\n",
              "      border-right-color: var(--fill-color);\n",
              "      border-top-color: var(--fill-color);\n",
              "    }\n",
              "    60% {\n",
              "      border-color: transparent;\n",
              "      border-right-color: var(--fill-color);\n",
              "    }\n",
              "    80% {\n",
              "      border-color: transparent;\n",
              "      border-right-color: var(--fill-color);\n",
              "      border-bottom-color: var(--fill-color);\n",
              "    }\n",
              "    90% {\n",
              "      border-color: transparent;\n",
              "      border-bottom-color: var(--fill-color);\n",
              "    }\n",
              "  }\n",
              "</style>\n",
              "\n",
              "      <script>\n",
              "        async function quickchart(key) {\n",
              "          const quickchartButtonEl =\n",
              "            document.querySelector('#' + key + ' button');\n",
              "          quickchartButtonEl.disabled = true;  // To prevent multiple clicks.\n",
              "          quickchartButtonEl.classList.add('colab-df-spinner');\n",
              "          try {\n",
              "            const charts = await google.colab.kernel.invokeFunction(\n",
              "                'suggestCharts', [key], {});\n",
              "          } catch (error) {\n",
              "            console.error('Error during call to suggestCharts:', error);\n",
              "          }\n",
              "          quickchartButtonEl.classList.remove('colab-df-spinner');\n",
              "          quickchartButtonEl.classList.add('colab-df-quickchart-complete');\n",
              "        }\n",
              "        (() => {\n",
              "          let quickchartButtonEl =\n",
              "            document.querySelector('#df-766c08f4-788d-4a57-9755-8ada32ae7d00 button');\n",
              "          quickchartButtonEl.style.display =\n",
              "            google.colab.kernel.accessAllowed ? 'block' : 'none';\n",
              "        })();\n",
              "      </script>\n",
              "    </div>\n",
              "\n",
              "  <div id=\"id_1e505ea7-f16e-41a8-87a2-496b49b1842f\">\n",
              "    <style>\n",
              "      .colab-df-generate {\n",
              "        background-color: #E8F0FE;\n",
              "        border: none;\n",
              "        border-radius: 50%;\n",
              "        cursor: pointer;\n",
              "        display: none;\n",
              "        fill: #1967D2;\n",
              "        height: 32px;\n",
              "        padding: 0 0 0 0;\n",
              "        width: 32px;\n",
              "      }\n",
              "\n",
              "      .colab-df-generate:hover {\n",
              "        background-color: #E2EBFA;\n",
              "        box-shadow: 0px 1px 2px rgba(60, 64, 67, 0.3), 0px 1px 3px 1px rgba(60, 64, 67, 0.15);\n",
              "        fill: #174EA6;\n",
              "      }\n",
              "\n",
              "      [theme=dark] .colab-df-generate {\n",
              "        background-color: #3B4455;\n",
              "        fill: #D2E3FC;\n",
              "      }\n",
              "\n",
              "      [theme=dark] .colab-df-generate:hover {\n",
              "        background-color: #434B5C;\n",
              "        box-shadow: 0px 1px 3px 1px rgba(0, 0, 0, 0.15);\n",
              "        filter: drop-shadow(0px 1px 2px rgba(0, 0, 0, 0.3));\n",
              "        fill: #FFFFFF;\n",
              "      }\n",
              "    </style>\n",
              "    <button class=\"colab-df-generate\" onclick=\"generateWithVariable('title_df_rating')\"\n",
              "            title=\"Generate code using this dataframe.\"\n",
              "            style=\"display:none;\">\n",
              "\n",
              "  <svg xmlns=\"http://www.w3.org/2000/svg\" height=\"24px\"viewBox=\"0 0 24 24\"\n",
              "       width=\"24px\">\n",
              "    <path d=\"M7,19H8.4L18.45,9,17,7.55,7,17.6ZM5,21V16.75L18.45,3.32a2,2,0,0,1,2.83,0l1.4,1.43a1.91,1.91,0,0,1,.58,1.4,1.91,1.91,0,0,1-.58,1.4L9.25,21ZM18.45,9,17,7.55Zm-12,3A5.31,5.31,0,0,0,4.9,8.1,5.31,5.31,0,0,0,1,6.5,5.31,5.31,0,0,0,4.9,4.9,5.31,5.31,0,0,0,6.5,1,5.31,5.31,0,0,0,8.1,4.9,5.31,5.31,0,0,0,12,6.5,5.46,5.46,0,0,0,6.5,12Z\"/>\n",
              "  </svg>\n",
              "    </button>\n",
              "    <script>\n",
              "      (() => {\n",
              "      const buttonEl =\n",
              "        document.querySelector('#id_1e505ea7-f16e-41a8-87a2-496b49b1842f button.colab-df-generate');\n",
              "      buttonEl.style.display =\n",
              "        google.colab.kernel.accessAllowed ? 'block' : 'none';\n",
              "\n",
              "      buttonEl.onclick = () => {\n",
              "        google.colab.notebook.generateWithVariable('title_df_rating');\n",
              "      }\n",
              "      })();\n",
              "    </script>\n",
              "  </div>\n",
              "\n",
              "    </div>\n",
              "  </div>\n"
            ],
            "application/vnd.google.colaboratory.intrinsic+json": {
              "type": "dataframe",
              "variable_name": "title_df_rating",
              "summary": "{\n  \"name\": \"title_df_rating\",\n  \"rows\": 20,\n  \"fields\": [\n    {\n      \"column\": \"Title\",\n      \"properties\": {\n        \"dtype\": \"string\",\n        \"num_unique_values\": 20,\n        \"samples\": [\n          \"Wild Animus\",\n          \"The Pelican Brief\",\n          \"House of Sand and Fog\"\n        ],\n        \"semantic_type\": \"\",\n        \"description\": \"\"\n      }\n    },\n    {\n      \"column\": \"Count\",\n      \"properties\": {\n        \"dtype\": \"number\",\n        \"std\": 431,\n        \"min\": 573,\n        \"max\": 2502,\n        \"num_unique_values\": 20,\n        \"samples\": [\n          2502,\n          581,\n          588\n        ],\n        \"semantic_type\": \"\",\n        \"description\": \"\"\n      }\n    },\n    {\n      \"column\": \"mean\",\n      \"properties\": {\n        \"dtype\": \"number\",\n        \"std\": 0.8568701750312434,\n        \"min\": 1.0195843325339728,\n        \"max\": 4.895652173913043,\n        \"num_unique_values\": 20,\n        \"samples\": [\n          1.0195843325339728,\n          2.6110154905335627,\n          3.0306122448979593\n        ],\n        \"semantic_type\": \"\",\n        \"description\": \"\"\n      }\n    }\n  ]\n}"
            }
          },
          "metadata": {},
          "execution_count": 31
        }
      ]
    },
    {
      "cell_type": "markdown",
      "source": [
        "\n",
        "\n",
        "Dari hasil pengelompokan data berdasarkan judul buku, ditemukan 20 buku yang paling banyak mendapatkan df_rating dari pengguna. Buku-buku ini memiliki tingkat popularitas tinggi karena sering dinilai oleh banyak pengguna. Selain itu, informasi rata-rata df_rating pada masing-masing buku juga membantu mengukur seberapa baik buku tersebut diterima. Data ini sangat berguna untuk mengidentifikasi buku-buku populer dan berkualitas, yang dapat dijadikan prioritas dalam sistem rekomendasi."
      ],
      "metadata": {
        "id": "AEFUTaQV83pP"
      }
    },
    {
      "cell_type": "markdown",
      "source": [
        "## **Mengecek apakah ada data duplikat dari dataset gabungan**"
      ],
      "metadata": {
        "id": "AmEZxW8xt11w"
      }
    },
    {
      "cell_type": "markdown",
      "source": [
        "Tahap ini menghapus data yang sama persis lebih dari satu kali. Duplikasi bisa membuat model belajar dari informasi berulang, sehingga menurunkan akurasi. Dengan menghilangkan duplikat, data jadi lebih bersih dan hasil analisis lebih akurat."
      ],
      "metadata": {
        "id": "66DnnGHYAuFZ"
      }
    },
    {
      "cell_type": "code",
      "source": [
        "# Mengecek jumlah baris duplikat di DataFrame 'data_merged'\n",
        "data_merged.duplicated().sum()"
      ],
      "metadata": {
        "colab": {
          "base_uri": "https://localhost:8080/"
        },
        "id": "H8v2zMZQ5cOm",
        "outputId": "b95c8dab-4719-4d32-8bcf-2daebea637fa"
      },
      "execution_count": null,
      "outputs": [
        {
          "output_type": "execute_result",
          "data": {
            "text/plain": [
              "np.int64(0)"
            ]
          },
          "metadata": {},
          "execution_count": 32
        }
      ]
    },
    {
      "cell_type": "markdown",
      "source": [
        "\n",
        "\n",
        "Hasil pengecekan pada DataFrame `data_merged` menunjukkan bahwa tidak terdapat baris duplikat dalam data. Hal ini menandakan bahwa setiap interaksi pengguna terhadap buku bersifat unik, sehingga tidak diperlukan proses penghapusan duplikasi. Ini menjadi indikator positif karena kualitas data sudah cukup baik untuk langsung digunakan dalam tahap analisis atau pembangunan model rekomendasi."
      ],
      "metadata": {
        "id": "xvPvrdgjvjAl"
      }
    },
    {
      "cell_type": "markdown",
      "source": [
        "## **Mengecek dan Menangani Missing Values Pada Dataset Gabungan**"
      ],
      "metadata": {
        "id": "MrcWUcIvVnTy"
      }
    },
    {
      "cell_type": "markdown",
      "source": [
        "Tahap ini bertujuan memastikan data yang digunakan bebas dari nilai kosong atau hilang yang bisa menimbulkan kesalahan atau bias. Dengan menangani missing values, dataset menjadi lebih lengkap dan hasil analisis maupun model prediksi jadi lebih tepat dan dapat diandalkan."
      ],
      "metadata": {
        "id": "Y__mSu1bAweU"
      }
    },
    {
      "cell_type": "code",
      "source": [
        "# Mengecek missing values\n",
        "data_merged.isna().sum()"
      ],
      "metadata": {
        "colab": {
          "base_uri": "https://localhost:8080/",
          "height": 303
        },
        "id": "ITS5Q8K_V3JW",
        "outputId": "d49ae2b8-df86-434d-dc99-a1c00a0f1990"
      },
      "execution_count": null,
      "outputs": [
        {
          "output_type": "execute_result",
          "data": {
            "text/plain": [
              "User_id      0\n",
              "ISBN         0\n",
              "Rating       0\n",
              "Title        0\n",
              "Author       0\n",
              "Year         0\n",
              "Publisher    0\n",
              "dtype: int64"
            ],
            "text/html": [
              "<div>\n",
              "<style scoped>\n",
              "    .dataframe tbody tr th:only-of-type {\n",
              "        vertical-align: middle;\n",
              "    }\n",
              "\n",
              "    .dataframe tbody tr th {\n",
              "        vertical-align: top;\n",
              "    }\n",
              "\n",
              "    .dataframe thead th {\n",
              "        text-align: right;\n",
              "    }\n",
              "</style>\n",
              "<table border=\"1\" class=\"dataframe\">\n",
              "  <thead>\n",
              "    <tr style=\"text-align: right;\">\n",
              "      <th></th>\n",
              "      <th>0</th>\n",
              "    </tr>\n",
              "  </thead>\n",
              "  <tbody>\n",
              "    <tr>\n",
              "      <th>User_id</th>\n",
              "      <td>0</td>\n",
              "    </tr>\n",
              "    <tr>\n",
              "      <th>ISBN</th>\n",
              "      <td>0</td>\n",
              "    </tr>\n",
              "    <tr>\n",
              "      <th>Rating</th>\n",
              "      <td>0</td>\n",
              "    </tr>\n",
              "    <tr>\n",
              "      <th>Title</th>\n",
              "      <td>0</td>\n",
              "    </tr>\n",
              "    <tr>\n",
              "      <th>Author</th>\n",
              "      <td>0</td>\n",
              "    </tr>\n",
              "    <tr>\n",
              "      <th>Year</th>\n",
              "      <td>0</td>\n",
              "    </tr>\n",
              "    <tr>\n",
              "      <th>Publisher</th>\n",
              "      <td>0</td>\n",
              "    </tr>\n",
              "  </tbody>\n",
              "</table>\n",
              "</div><br><label><b>dtype:</b> int64</label>"
            ]
          },
          "metadata": {},
          "execution_count": 33
        }
      ]
    },
    {
      "cell_type": "markdown",
      "source": [
        "\n",
        "\n",
        "Hasil pemeriksaan menunjukkan bahwa dataset gabungan tidak mengandung missing values, sehingga tidak diperlukan proses imputasi atau penghapusan data pada tahap ini."
      ],
      "metadata": {
        "id": "4wF6jW1H_1qJ"
      }
    },
    {
      "cell_type": "markdown",
      "source": [
        "## **Melakukan Sampling Dataset**"
      ],
      "metadata": {
        "id": "apGtdKSA_918"
      }
    },
    {
      "cell_type": "markdown",
      "source": [
        "Tahap ini mengambil sampel acak sebanyak `500.000 baris` dari dataset agar proses eksplorasi, pelatihan, dan evaluasi bisa berjalan lebih cepat dan efisien. Pengaturan `random_state=42` memastikan hasil sampling sama setiap kali dijalankan, sehingga eksperimen menjadi konsisten."
      ],
      "metadata": {
        "id": "8gpFdeJyA6oo"
      }
    },
    {
      "cell_type": "code",
      "source": [
        "data_small = data_merged.sample(500000, random_state=42).copy()"
      ],
      "metadata": {
        "id": "j5gCLdRNf7Nc"
      },
      "execution_count": null,
      "outputs": []
    },
    {
      "cell_type": "markdown",
      "source": [
        "Dataframe `data_small` berhasil dibuat dengan mengambil 500.000 sampel dari data asli. Dengan ukuran yang lebih kecil ini, proses eksplorasi data dan pemodelan dapat dilakukan lebih cepat dan efisien. Meskipun jumlah data dikurangi, kualitas analisis tetap terjaga karena sampel yang diambil mewakili keseluruhan dataset secara acak dan konsisten.\n",
        "\n",
        "\n",
        "\n",
        "\n",
        "\n",
        "\n",
        "\n"
      ],
      "metadata": {
        "id": "utlVZeBXBEcH"
      }
    },
    {
      "cell_type": "markdown",
      "source": [
        "## **Menyalin Data dan Melakukan Encoding**"
      ],
      "metadata": {
        "id": "FjR9i2xUBihm"
      }
    },
    {
      "cell_type": "markdown",
      "source": [
        "Pada tahap ini dilakukan penyalinan data untuk memastikan proses pemodelan tidak mengubah data asli. Selanjutnya, dilakukan encoding terhadap kolom seperti User_id dan ISBN menjadi format numerik agar dapat dikenali dan diproses dengan baik oleh algoritma collaborative filtering."
      ],
      "metadata": {
        "id": "ZNHs8BL2CvPv"
      }
    },
    {
      "cell_type": "code",
      "source": [
        "# Salin data untuk collaborative filtering\n",
        "cf_df = data_small.copy()\n",
        "\n",
        "# Encode df_user dan ISBN\n",
        "df_user_ids = cf_df['User_id'].unique().tolist()\n",
        "df_user_to_df_user_encoded = {x: i for i, x in enumerate(df_user_ids)}\n",
        "df_user_encoded_to_df_user = {i: x for i, x in enumerate(df_user_ids)}\n",
        "\n",
        "book_ids = cf_df['ISBN'].unique().tolist()\n",
        "book_to_book_encoded = {x: i for i, x in enumerate(book_ids)}\n",
        "book_encoded_to_book = {i: x for i, x in enumerate(book_ids)}\n",
        "\n",
        "cf_df['df_user'] = cf_df['User_id'].map(df_user_to_df_user_encoded)\n",
        "cf_df['book'] = cf_df['ISBN'].map(book_to_book_encoded)\n",
        "\n",
        "# Variabel tambahan\n",
        "num_df_users = len(df_user_to_df_user_encoded)\n",
        "num_df_books = len(book_encoded_to_book)\n",
        "min_df_rating = cf_df['Rating'].min()\n",
        "max_df_rating = cf_df['Rating'].max()\n",
        "\n",
        "print(f'Users: {num_df_users}, Books: {num_df_books}, Rating range: {min_df_rating}–{max_df_rating}')"
      ],
      "metadata": {
        "colab": {
          "base_uri": "https://localhost:8080/"
        },
        "id": "HgcWXXJUZUf0",
        "outputId": "4ba986db-bdd9-4aaa-ab33-a8d2dc0e8714"
      },
      "execution_count": null,
      "outputs": [
        {
          "output_type": "stream",
          "name": "stdout",
          "text": [
            "Users: 61584, Books: 177748, Rating range: 0–10\n"
          ]
        }
      ]
    },
    {
      "cell_type": "markdown",
      "source": [
        "\n",
        "\n",
        "Dari hasil encoding data, diketahui terdapat `61.584` pengguna unik dan `177.748` buku unik dalam dataset. Ini menunjukkan skala data yang cukup besar dan bervariasi, yang menjadi dasar yang baik untuk membangun sistem rekomendasi berbasis collaborative filtering. Rentang df_rating yang ditemukan adalah dari `0 hingga 10`, yang memberi fleksibilitas model dalam mempelajari preferensi pengguna secara lebih detail. Informasi ini juga penting untuk menentukan strategi normalisasi atau penyesuaian skala df_rating selama proses pelatihan model."
      ],
      "metadata": {
        "id": "vR2bM_44DOmC"
      }
    },
    {
      "cell_type": "markdown",
      "source": [
        "## **Pembagian Data**"
      ],
      "metadata": {
        "id": "yFiZwQudDV2N"
      }
    },
    {
      "cell_type": "markdown",
      "source": [
        "Pada tahap pembagian data, dataset yang telah diproses dibagi menjadi dua bagian, yaitu data training dan data testing dengan rasio 80:20. Data training berfungsi sebagai bahan pembelajaran bagi model untuk mengenali pola dan hubungan antara pengguna dan buku berdasarkan df_rating yang diberikan. Sementara itu, data testing digunakan untuk menguji seberapa baik model dapat melakukan prediksi terhadap data yang belum pernah dilihat sebelumnya. Pembagian ini penting untuk menilai kemampuan generalisasi model secara objektif."
      ],
      "metadata": {
        "id": "1rLOHyH0Di6E"
      }
    },
    {
      "cell_type": "code",
      "source": [
        "x = cf_df[['df_user', 'book']].values\n",
        "y = cf_df['Rating'].apply(lambda x: (x - min_df_rating) / (max_df_rating - min_df_rating)).values\n",
        "\n",
        "x_train, x_val, y_train, y_val = train_test_split(x, y, test_size=0.2, random_state=42)"
      ],
      "metadata": {
        "id": "_CiVGydhdbtb"
      },
      "execution_count": null,
      "outputs": []
    },
    {
      "cell_type": "markdown",
      "source": [
        "\n",
        "\n",
        "Pembagian data menjadi 80% training dan 20% testing memungkinkan proses pelatihan model berjalan dengan cukup data untuk memahami pola rekomendasi, sekaligus memberikan ruang evaluasi yang cukup untuk mengukur performa model. Dengan pendekatan ini, kita dapat memastikan bahwa model tidak hanya hafal data training, tetapi juga mampu memberikan prediksi yang akurat pada data baru, yang merupakan inti dari sistem rekomendasi yang efektif."
      ],
      "metadata": {
        "id": "pKzrEzg-D3e8"
      }
    },
    {
      "cell_type": "markdown",
      "source": [
        "# **Model Development**"
      ],
      "metadata": {
        "id": "pXwt7P8n75G3"
      }
    },
    {
      "cell_type": "markdown",
      "source": [
        "Pada tahap ini, fokus utama adalah mengembangkan sistem rekomendasi buku dengan menggunakan pendekatan `Collaborative Filtering`. Pendekatan ini bekerja dengan cara menganalisis pola interaksi antara pengguna dan buku — khususnya dari data df_rating yang diberikan — untuk memahami kesamaan preferensi antar pengguna. Dengan memahami pola tersebut, sistem dapat menyarankan buku-buku yang belum pernah dibaca oleh seorang pengguna, namun dinilai tinggi oleh pengguna lain yang memiliki kesukaan serupa, sehingga menghasilkan rekomendasi yang bersifat lebih personal dan relevan."
      ],
      "metadata": {
        "id": "4YsumfQDEUd3"
      }
    },
    {
      "cell_type": "markdown",
      "source": [
        "## **Collaborative Filtering**"
      ],
      "metadata": {
        "id": "-IzKibVQZQXc"
      }
    },
    {
      "cell_type": "markdown",
      "source": [
        "### **Proses Training**"
      ],
      "metadata": {
        "id": "U9aewt45EGBV"
      }
    },
    {
      "cell_type": "code",
      "source": [
        "class RecommenderNet(tf.keras.Model):\n",
        "    def __init__(self, num_df_users, num_df_books, embedding_size, **kwargs):\n",
        "        super(RecommenderNet, self).__init__(**kwargs)\n",
        "        self.df_user_embedding = layers.Embedding(\n",
        "            num_df_users, embedding_size,\n",
        "            embeddings_initializer='he_normal',\n",
        "            embeddings_regularizer=keras.regularizers.l2(1e-6)\n",
        "        )\n",
        "        self.df_user_bias = layers.Embedding(num_df_users, 1)\n",
        "\n",
        "        self.book_embedding = layers.Embedding(\n",
        "            num_df_books, embedding_size,\n",
        "            embeddings_initializer='he_normal',\n",
        "            embeddings_regularizer=keras.regularizers.l2(1e-6)\n",
        "        )\n",
        "        self.book_bias = layers.Embedding(num_df_books, 1)\n",
        "\n",
        "    def call(self, inputs):\n",
        "        df_user_vector = self.df_user_embedding(inputs[:, 0])\n",
        "        df_user_bias = self.df_user_bias(inputs[:, 0])\n",
        "        book_vector = self.book_embedding(inputs[:, 1])\n",
        "        book_bias = self.book_bias(inputs[:, 1])\n",
        "\n",
        "        dot_df_user_book = tf.tensordot(df_user_vector, book_vector, 2)\n",
        "        x = dot_df_user_book + df_user_bias + book_bias\n",
        "        return tf.nn.sigmoid(x)"
      ],
      "metadata": {
        "id": "3VJZUXoNdgoU"
      },
      "execution_count": null,
      "outputs": []
    },
    {
      "cell_type": "code",
      "source": [
        "model = RecommenderNet(num_df_users, num_df_books, embedding_size=50)\n",
        "model.compile(\n",
        "    loss=tf.keras.losses.BinaryCrossentropy(),\n",
        "    optimizer=keras.optimizers.Adam(learning_rate=0.001),\n",
        "    metrics=[tf.keras.metrics.RootMeanSquaredError()]\n",
        ")\n",
        "\n",
        "history = model.fit(\n",
        "    x_train, y_train,\n",
        "    batch_size=256,\n",
        "    epochs=50,\n",
        "    validation_data=(x_val, y_val)\n",
        ")"
      ],
      "metadata": {
        "colab": {
          "base_uri": "https://localhost:8080/"
        },
        "id": "aQYLeF2vdhZw",
        "outputId": "bca4d7d7-3b22-46ec-9cd9-8c1b5f9d9ddf"
      },
      "execution_count": null,
      "outputs": [
        {
          "output_type": "stream",
          "name": "stdout",
          "text": [
            "Epoch 1/50\n",
            "\u001b[1m1563/1563\u001b[0m \u001b[32m━━━━━━━━━━━━━━━━━━━━\u001b[0m\u001b[37m\u001b[0m \u001b[1m14s\u001b[0m 7ms/step - loss: 0.6413 - root_mean_squared_error: 0.4122 - val_loss: 0.5677 - val_root_mean_squared_error: 0.3676\n",
            "Epoch 2/50\n",
            "\u001b[1m1563/1563\u001b[0m \u001b[32m━━━━━━━━━━━━━━━━━━━━\u001b[0m\u001b[37m\u001b[0m \u001b[1m17s\u001b[0m 5ms/step - loss: 0.5701 - root_mean_squared_error: 0.3681 - val_loss: 0.5963 - val_root_mean_squared_error: 0.3810\n",
            "Epoch 3/50\n",
            "\u001b[1m1563/1563\u001b[0m \u001b[32m━━━━━━━━━━━━━━━━━━━━\u001b[0m\u001b[37m\u001b[0m \u001b[1m9s\u001b[0m 5ms/step - loss: 0.5825 - root_mean_squared_error: 0.3726 - val_loss: 0.5778 - val_root_mean_squared_error: 0.3678\n",
            "Epoch 4/50\n",
            "\u001b[1m1563/1563\u001b[0m \u001b[32m━━━━━━━━━━━━━━━━━━━━\u001b[0m\u001b[37m\u001b[0m \u001b[1m10s\u001b[0m 5ms/step - loss: 0.6341 - root_mean_squared_error: 0.3860 - val_loss: 0.6038 - val_root_mean_squared_error: 0.3800\n",
            "Epoch 5/50\n",
            "\u001b[1m1563/1563\u001b[0m \u001b[32m━━━━━━━━━━━━━━━━━━━━\u001b[0m\u001b[37m\u001b[0m \u001b[1m10s\u001b[0m 5ms/step - loss: 0.9424 - root_mean_squared_error: 0.4987 - val_loss: 0.6729 - val_root_mean_squared_error: 0.3929\n",
            "Epoch 6/50\n",
            "\u001b[1m1563/1563\u001b[0m \u001b[32m━━━━━━━━━━━━━━━━━━━━\u001b[0m\u001b[37m\u001b[0m \u001b[1m10s\u001b[0m 5ms/step - loss: 1.3564 - root_mean_squared_error: 0.4527 - val_loss: 0.8023 - val_root_mean_squared_error: 0.4707\n",
            "Epoch 7/50\n",
            "\u001b[1m1563/1563\u001b[0m \u001b[32m━━━━━━━━━━━━━━━━━━━━\u001b[0m\u001b[37m\u001b[0m \u001b[1m11s\u001b[0m 5ms/step - loss: 3.4227 - root_mean_squared_error: 0.7004 - val_loss: 0.8523 - val_root_mean_squared_error: 0.4239\n",
            "Epoch 8/50\n",
            "\u001b[1m1563/1563\u001b[0m \u001b[32m━━━━━━━━━━━━━━━━━━━━\u001b[0m\u001b[37m\u001b[0m \u001b[1m10s\u001b[0m 5ms/step - loss: 1.5719 - root_mean_squared_error: 0.4481 - val_loss: 0.6108 - val_root_mean_squared_error: 0.3761\n",
            "Epoch 9/50\n",
            "\u001b[1m1563/1563\u001b[0m \u001b[32m━━━━━━━━━━━━━━━━━━━━\u001b[0m\u001b[37m\u001b[0m \u001b[1m11s\u001b[0m 5ms/step - loss: 1.6187 - root_mean_squared_error: 0.5896 - val_loss: 0.7477 - val_root_mean_squared_error: 0.4022\n",
            "Epoch 10/50\n",
            "\u001b[1m1563/1563\u001b[0m \u001b[32m━━━━━━━━━━━━━━━━━━━━\u001b[0m\u001b[37m\u001b[0m \u001b[1m8s\u001b[0m 5ms/step - loss: 1.1703 - root_mean_squared_error: 0.4334 - val_loss: 0.6085 - val_root_mean_squared_error: 0.3704\n",
            "Epoch 11/50\n",
            "\u001b[1m1563/1563\u001b[0m \u001b[32m━━━━━━━━━━━━━━━━━━━━\u001b[0m\u001b[37m\u001b[0m \u001b[1m10s\u001b[0m 5ms/step - loss: 1.5298 - root_mean_squared_error: 0.5685 - val_loss: 0.7775 - val_root_mean_squared_error: 0.4033\n",
            "Epoch 12/50\n",
            "\u001b[1m1563/1563\u001b[0m \u001b[32m━━━━━━━━━━━━━━━━━━━━\u001b[0m\u001b[37m\u001b[0m \u001b[1m8s\u001b[0m 5ms/step - loss: 1.2086 - root_mean_squared_error: 0.4333 - val_loss: 0.6186 - val_root_mean_squared_error: 0.3701\n",
            "Epoch 13/50\n",
            "\u001b[1m1563/1563\u001b[0m \u001b[32m━━━━━━━━━━━━━━━━━━━━\u001b[0m\u001b[37m\u001b[0m \u001b[1m11s\u001b[0m 5ms/step - loss: 1.6520 - root_mean_squared_error: 0.5771 - val_loss: 0.9118 - val_root_mean_squared_error: 0.4213\n",
            "Epoch 14/50\n",
            "\u001b[1m1563/1563\u001b[0m \u001b[32m━━━━━━━━━━━━━━━━━━━━\u001b[0m\u001b[37m\u001b[0m \u001b[1m9s\u001b[0m 5ms/step - loss: 1.4301 - root_mean_squared_error: 0.4438 - val_loss: 0.6307 - val_root_mean_squared_error: 0.3708\n",
            "Epoch 15/50\n",
            "\u001b[1m1563/1563\u001b[0m \u001b[32m━━━━━━━━━━━━━━━━━━━━\u001b[0m\u001b[37m\u001b[0m \u001b[1m8s\u001b[0m 5ms/step - loss: 1.9154 - root_mean_squared_error: 0.6052 - val_loss: 1.0313 - val_root_mean_squared_error: 0.4311\n",
            "Epoch 16/50\n",
            "\u001b[1m1563/1563\u001b[0m \u001b[32m━━━━━━━━━━━━━━━━━━━━\u001b[0m\u001b[37m\u001b[0m \u001b[1m9s\u001b[0m 6ms/step - loss: 1.5249 - root_mean_squared_error: 0.4454 - val_loss: 0.6537 - val_root_mean_squared_error: 0.3764\n",
            "Epoch 17/50\n",
            "\u001b[1m1563/1563\u001b[0m \u001b[32m━━━━━━━━━━━━━━━━━━━━\u001b[0m\u001b[37m\u001b[0m \u001b[1m8s\u001b[0m 5ms/step - loss: 2.1663 - root_mean_squared_error: 0.6167 - val_loss: 1.2362 - val_root_mean_squared_error: 0.4459\n",
            "Epoch 18/50\n",
            "\u001b[1m1563/1563\u001b[0m \u001b[32m━━━━━━━━━━━━━━━━━━━━\u001b[0m\u001b[37m\u001b[0m \u001b[1m8s\u001b[0m 5ms/step - loss: 1.6984 - root_mean_squared_error: 0.4498 - val_loss: 0.6636 - val_root_mean_squared_error: 0.3726\n",
            "Epoch 19/50\n",
            "\u001b[1m1563/1563\u001b[0m \u001b[32m━━━━━━━━━━━━━━━━━━━━\u001b[0m\u001b[37m\u001b[0m \u001b[1m10s\u001b[0m 5ms/step - loss: 2.2414 - root_mean_squared_error: 0.6096 - val_loss: 1.3144 - val_root_mean_squared_error: 0.4494\n",
            "Epoch 20/50\n",
            "\u001b[1m1563/1563\u001b[0m \u001b[32m━━━━━━━━━━━━━━━━━━━━\u001b[0m\u001b[37m\u001b[0m \u001b[1m10s\u001b[0m 5ms/step - loss: 1.6796 - root_mean_squared_error: 0.4486 - val_loss: 0.6780 - val_root_mean_squared_error: 0.3736\n",
            "Epoch 21/50\n",
            "\u001b[1m1563/1563\u001b[0m \u001b[32m━━━━━━━━━━━━━━━━━━━━\u001b[0m\u001b[37m\u001b[0m \u001b[1m9s\u001b[0m 5ms/step - loss: 2.3911 - root_mean_squared_error: 0.6119 - val_loss: 1.4794 - val_root_mean_squared_error: 0.4568\n",
            "Epoch 22/50\n",
            "\u001b[1m1563/1563\u001b[0m \u001b[32m━━━━━━━━━━━━━━━━━━━━\u001b[0m\u001b[37m\u001b[0m \u001b[1m10s\u001b[0m 5ms/step - loss: 1.8007 - root_mean_squared_error: 0.4498 - val_loss: 0.6984 - val_root_mean_squared_error: 0.3737\n",
            "Epoch 23/50\n",
            "\u001b[1m1563/1563\u001b[0m \u001b[32m━━━━━━━━━━━━━━━━━━━━\u001b[0m\u001b[37m\u001b[0m \u001b[1m8s\u001b[0m 5ms/step - loss: 2.4068 - root_mean_squared_error: 0.6086 - val_loss: 1.6569 - val_root_mean_squared_error: 0.4618\n",
            "Epoch 24/50\n",
            "\u001b[1m1563/1563\u001b[0m \u001b[32m━━━━━━━━━━━━━━━━━━━━\u001b[0m\u001b[37m\u001b[0m \u001b[1m10s\u001b[0m 5ms/step - loss: 1.9350 - root_mean_squared_error: 0.4516 - val_loss: 0.7282 - val_root_mean_squared_error: 0.3767\n",
            "Epoch 25/50\n",
            "\u001b[1m1563/1563\u001b[0m \u001b[32m━━━━━━━━━━━━━━━━━━━━\u001b[0m\u001b[37m\u001b[0m \u001b[1m11s\u001b[0m 5ms/step - loss: 2.3676 - root_mean_squared_error: 0.6008 - val_loss: 1.5877 - val_root_mean_squared_error: 0.4579\n",
            "Epoch 26/50\n",
            "\u001b[1m1563/1563\u001b[0m \u001b[32m━━━━━━━━━━━━━━━━━━━━\u001b[0m\u001b[37m\u001b[0m \u001b[1m9s\u001b[0m 5ms/step - loss: 1.7195 - root_mean_squared_error: 0.4451 - val_loss: 0.7800 - val_root_mean_squared_error: 0.3827\n",
            "Epoch 27/50\n",
            "\u001b[1m1563/1563\u001b[0m \u001b[32m━━━━━━━━━━━━━━━━━━━━\u001b[0m\u001b[37m\u001b[0m \u001b[1m10s\u001b[0m 5ms/step - loss: 2.1186 - root_mean_squared_error: 0.5769 - val_loss: 1.6658 - val_root_mean_squared_error: 0.4597\n",
            "Epoch 28/50\n",
            "\u001b[1m1563/1563\u001b[0m \u001b[32m━━━━━━━━━━━━━━━━━━━━\u001b[0m\u001b[37m\u001b[0m \u001b[1m8s\u001b[0m 5ms/step - loss: 1.7206 - root_mean_squared_error: 0.4473 - val_loss: 0.8070 - val_root_mean_squared_error: 0.3861\n",
            "Epoch 29/50\n",
            "\u001b[1m1563/1563\u001b[0m \u001b[32m━━━━━━━━━━━━━━━━━━━━\u001b[0m\u001b[37m\u001b[0m \u001b[1m8s\u001b[0m 5ms/step - loss: 2.3524 - root_mean_squared_error: 0.5922 - val_loss: 1.8647 - val_root_mean_squared_error: 0.4645\n",
            "Epoch 30/50\n",
            "\u001b[1m1563/1563\u001b[0m \u001b[32m━━━━━━━━━━━━━━━━━━━━\u001b[0m\u001b[37m\u001b[0m \u001b[1m8s\u001b[0m 5ms/step - loss: 1.8707 - root_mean_squared_error: 0.4507 - val_loss: 0.8412 - val_root_mean_squared_error: 0.3897\n",
            "Epoch 31/50\n",
            "\u001b[1m1563/1563\u001b[0m \u001b[32m━━━━━━━━━━━━━━━━━━━━\u001b[0m\u001b[37m\u001b[0m \u001b[1m10s\u001b[0m 5ms/step - loss: 2.5117 - root_mean_squared_error: 0.5975 - val_loss: 1.9862 - val_root_mean_squared_error: 0.4662\n",
            "Epoch 32/50\n",
            "\u001b[1m1563/1563\u001b[0m \u001b[32m━━━━━━━━━━━━━━━━━━━━\u001b[0m\u001b[37m\u001b[0m \u001b[1m8s\u001b[0m 5ms/step - loss: 1.9846 - root_mean_squared_error: 0.4510 - val_loss: 0.8682 - val_root_mean_squared_error: 0.3906\n",
            "Epoch 33/50\n",
            "\u001b[1m1563/1563\u001b[0m \u001b[32m━━━━━━━━━━━━━━━━━━━━\u001b[0m\u001b[37m\u001b[0m \u001b[1m9s\u001b[0m 6ms/step - loss: 2.6626 - root_mean_squared_error: 0.6024 - val_loss: 2.1442 - val_root_mean_squared_error: 0.4686\n",
            "Epoch 34/50\n",
            "\u001b[1m1563/1563\u001b[0m \u001b[32m━━━━━━━━━━━━━━━━━━━━\u001b[0m\u001b[37m\u001b[0m \u001b[1m8s\u001b[0m 5ms/step - loss: 2.0596 - root_mean_squared_error: 0.4513 - val_loss: 0.9289 - val_root_mean_squared_error: 0.3973\n",
            "Epoch 35/50\n",
            "\u001b[1m1563/1563\u001b[0m \u001b[32m━━━━━━━━━━━━━━━━━━━━\u001b[0m\u001b[37m\u001b[0m \u001b[1m10s\u001b[0m 5ms/step - loss: 2.7070 - root_mean_squared_error: 0.5966 - val_loss: 2.2952 - val_root_mean_squared_error: 0.4697\n",
            "Epoch 36/50\n",
            "\u001b[1m1563/1563\u001b[0m \u001b[32m━━━━━━━━━━━━━━━━━━━━\u001b[0m\u001b[37m\u001b[0m \u001b[1m9s\u001b[0m 5ms/step - loss: 2.2220 - root_mean_squared_error: 0.4574 - val_loss: 0.9638 - val_root_mean_squared_error: 0.4019\n",
            "Epoch 37/50\n",
            "\u001b[1m1563/1563\u001b[0m \u001b[32m━━━━━━━━━━━━━━━━━━━━\u001b[0m\u001b[37m\u001b[0m \u001b[1m8s\u001b[0m 5ms/step - loss: 2.7674 - root_mean_squared_error: 0.6016 - val_loss: 2.3069 - val_root_mean_squared_error: 0.4690\n",
            "Epoch 38/50\n",
            "\u001b[1m1563/1563\u001b[0m \u001b[32m━━━━━━━━━━━━━━━━━━━━\u001b[0m\u001b[37m\u001b[0m \u001b[1m10s\u001b[0m 5ms/step - loss: 2.0551 - root_mean_squared_error: 0.4513 - val_loss: 1.0378 - val_root_mean_squared_error: 0.4079\n",
            "Epoch 39/50\n",
            "\u001b[1m1563/1563\u001b[0m \u001b[32m━━━━━━━━━━━━━━━━━━━━\u001b[0m\u001b[37m\u001b[0m \u001b[1m8s\u001b[0m 5ms/step - loss: 2.7429 - root_mean_squared_error: 0.5967 - val_loss: 2.4446 - val_root_mean_squared_error: 0.4701\n",
            "Epoch 40/50\n",
            "\u001b[1m1563/1563\u001b[0m \u001b[32m━━━━━━━━━━━━━━━━━━━━\u001b[0m\u001b[37m\u001b[0m \u001b[1m8s\u001b[0m 5ms/step - loss: 2.1190 - root_mean_squared_error: 0.4534 - val_loss: 1.0869 - val_root_mean_squared_error: 0.4116\n",
            "Epoch 41/50\n",
            "\u001b[1m1563/1563\u001b[0m \u001b[32m━━━━━━━━━━━━━━━━━━━━\u001b[0m\u001b[37m\u001b[0m \u001b[1m10s\u001b[0m 5ms/step - loss: 3.0218 - root_mean_squared_error: 0.6016 - val_loss: 2.6474 - val_root_mean_squared_error: 0.4715\n",
            "Epoch 42/50\n",
            "\u001b[1m1563/1563\u001b[0m \u001b[32m━━━━━━━━━━━━━━━━━━━━\u001b[0m\u001b[37m\u001b[0m \u001b[1m11s\u001b[0m 6ms/step - loss: 2.3048 - root_mean_squared_error: 0.4575 - val_loss: 1.1630 - val_root_mean_squared_error: 0.4172\n",
            "Epoch 43/50\n",
            "\u001b[1m1563/1563\u001b[0m \u001b[32m━━━━━━━━━━━━━━━━━━━━\u001b[0m\u001b[37m\u001b[0m \u001b[1m10s\u001b[0m 6ms/step - loss: 2.8742 - root_mean_squared_error: 0.5993 - val_loss: 2.7576 - val_root_mean_squared_error: 0.4719\n",
            "Epoch 44/50\n",
            "\u001b[1m1563/1563\u001b[0m \u001b[32m━━━━━━━━━━━━━━━━━━━━\u001b[0m\u001b[37m\u001b[0m \u001b[1m9s\u001b[0m 6ms/step - loss: 2.4009 - root_mean_squared_error: 0.4593 - val_loss: 1.2043 - val_root_mean_squared_error: 0.4197\n",
            "Epoch 45/50\n",
            "\u001b[1m1563/1563\u001b[0m \u001b[32m━━━━━━━━━━━━━━━━━━━━\u001b[0m\u001b[37m\u001b[0m \u001b[1m9s\u001b[0m 6ms/step - loss: 2.9553 - root_mean_squared_error: 0.5941 - val_loss: 2.7793 - val_root_mean_squared_error: 0.4714\n",
            "Epoch 46/50\n",
            "\u001b[1m1563/1563\u001b[0m \u001b[32m━━━━━━━━━━━━━━━━━━━━\u001b[0m\u001b[37m\u001b[0m \u001b[1m10s\u001b[0m 6ms/step - loss: 2.3278 - root_mean_squared_error: 0.4570 - val_loss: 1.2409 - val_root_mean_squared_error: 0.4202\n",
            "Epoch 47/50\n",
            "\u001b[1m1563/1563\u001b[0m \u001b[32m━━━━━━━━━━━━━━━━━━━━\u001b[0m\u001b[37m\u001b[0m \u001b[1m8s\u001b[0m 5ms/step - loss: 2.9635 - root_mean_squared_error: 0.5981 - val_loss: 2.9164 - val_root_mean_squared_error: 0.4723\n",
            "Epoch 48/50\n",
            "\u001b[1m1563/1563\u001b[0m \u001b[32m━━━━━━━━━━━━━━━━━━━━\u001b[0m\u001b[37m\u001b[0m \u001b[1m11s\u001b[0m 5ms/step - loss: 2.5027 - root_mean_squared_error: 0.4586 - val_loss: 1.2311 - val_root_mean_squared_error: 0.4193\n",
            "Epoch 49/50\n",
            "\u001b[1m1563/1563\u001b[0m \u001b[32m━━━━━━━━━━━━━━━━━━━━\u001b[0m\u001b[37m\u001b[0m \u001b[1m9s\u001b[0m 6ms/step - loss: 3.4489 - root_mean_squared_error: 0.6180 - val_loss: 3.1449 - val_root_mean_squared_error: 0.4735\n",
            "Epoch 50/50\n",
            "\u001b[1m1563/1563\u001b[0m \u001b[32m━━━━━━━━━━━━━━━━━━━━\u001b[0m\u001b[37m\u001b[0m \u001b[1m10s\u001b[0m 5ms/step - loss: 2.6130 - root_mean_squared_error: 0.4534 - val_loss: 1.2948 - val_root_mean_squared_error: 0.4232\n"
          ]
        }
      ]
    },
    {
      "cell_type": "markdown",
      "source": [
        "Hasil pelatihan selama 50 epoch menunjukkan bahwa model mencapai performa validasi terbaik pada epoch pertama, dengan nilai RMSE validasi sebesar 0.3676. Setelah itu, performa model cenderung mengalami penurunan secara bertahap. Hal ini terlihat dari meningkatnya nilai val_loss dan val_root_mean_squared_error di epoch-epoch selanjutnya, yang mengindikasikan terjadinya overfitting. Meskipun beberapa epoch menunjukkan perbaikan kecil, seperti pada epoch ke-10 dan 14, namun tidak mampu melampaui performa awal pada epoch pertama. Pada epoch-epoch akhir, terutama setelah epoch ke-30, nilai RMSE validasi terus meningkat secara signifikan, menandakan bahwa model semakin sulit melakukan generalisasi terhadap data validasi. Dengan demikian, performa terbaik diperoleh di awal pelatihan, dan pelatihan lebih lanjut justru menyebabkan degradasi kinerja model."
      ],
      "metadata": {
        "id": "6kvpZUWfGjwa"
      }
    },
    {
      "cell_type": "markdown",
      "source": [
        "# **Evaluasi Model**"
      ],
      "metadata": {
        "id": "_4q-DkX2ifi_"
      }
    },
    {
      "cell_type": "markdown",
      "source": [
        "Pada tahap ini, proses evaluasi dilakukan untuk menilai sejauh mana model Collaborative Filtering mampu memberikan rekomendasi buku yang sesuai dengan preferensi pengguna. Evaluasi ini menjadi langkah penting untuk mengetahui akurasi dan efektivitas model dalam memprediksi df_rating atau ketertarikan pengguna terhadap buku-buku yang belum pernah mereka baca."
      ],
      "metadata": {
        "id": "J-f8Sp41Jc_i"
      }
    },
    {
      "cell_type": "markdown",
      "source": [
        "# **Metrik Visualisasi**"
      ],
      "metadata": {
        "id": "uTaqViAVH76Z"
      }
    },
    {
      "cell_type": "code",
      "source": [
        "plt.plot(history.history['root_mean_squared_error'])\n",
        "plt.plot(history.history['val_root_mean_squared_error'])\n",
        "plt.title('Model Performance')\n",
        "plt.ylabel('Root Mean Squared Error')\n",
        "plt.xlabel('Epoch')\n",
        "plt.legend(['Train', 'Validation'], loc='upper right')\n",
        "plt.grid(True)\n",
        "plt.show()"
      ],
      "metadata": {
        "colab": {
          "base_uri": "https://localhost:8080/",
          "height": 472
        },
        "id": "i1RzyNSqiBZf",
        "outputId": "9ea8cacb-c93c-4b9d-9e20-a7788eca0d2d"
      },
      "execution_count": null,
      "outputs": [
        {
          "output_type": "display_data",
          "data": {
            "text/plain": [
              "<Figure size 640x480 with 1 Axes>"
            ],
            "image/png": "[encoded data removed]"
          },
          "metadata": {}
        }
      ]
    },
    {
      "cell_type": "markdown",
      "source": [
        "Hasil pelatihan selama 50 epoch menunjukkan bahwa model mencapai performa validasi terbaik pada epoch kedua, dengan nilai RMSE validasi mendekati 0.37. Setelah itu, performa validasi secara bertahap mulai menurun, yang terlihat dari meningkatnya nilai RMSE validasi hingga akhir pelatihan. Pola fluktuatif pada kurva RMSE training dan validation menunjukkan adanya ketidakstabilan dalam proses pembelajaran. Meskipun terdapat penurunan RMSE sesekali, tren keseluruhan tetap mengindikasikan bahwa model mengalami overfitting setelah beberapa epoch awal. Hal ini ditandai dengan RMSE training yang terus berfluktuasi tinggi dan RMSE validasi yang secara konsisten memburuk setelah titik optimal awal. Dengan demikian, model seharusnya dihentikan lebih awal menggunakan teknik early stopping, agar performa terbaik pada epoch awal dapat dipertahankan."
      ],
      "metadata": {
        "id": "j-1nD9AnI1Vd"
      }
    },
    {
      "cell_type": "markdown",
      "source": [
        "## **Mendapatkan Rekomendasi Buku**"
      ],
      "metadata": {
        "id": "DPtCDW7VJkm7"
      }
    },
    {
      "cell_type": "code",
      "source": [
        "def recommend_df_books_for_df_user(df_user_id, model, cf_df,\n",
        "                                   df_user_to_df_user_encoded, df_user_encoded_to_df_user,\n",
        "                                   book_to_book_encoded, book_encoded_to_book, top_k=10):\n",
        "    if df_user_id not in df_user_to_df_user_encoded:\n",
        "        print(f\"User {df_user_id} tidak ditemukan di data training.\")\n",
        "        return pd.DataFrame()\n",
        "\n",
        "    df_user_encoded = df_user_to_df_user_encoded[df_user_id]\n",
        "\n",
        "    # Buku yang sudah dibaca user\n",
        "    df_books_read = cf_df[cf_df['User_id'] == df_user_id]['ISBN'].unique()\n",
        "    df_books_not_read = [isbn for isbn in book_to_book_encoded.keys() if isbn not in df_books_read]\n",
        "    df_books_not_read_encoded = [book_to_book_encoded[isbn] for isbn in df_books_not_read]\n",
        "\n",
        "    df_user_array = np.array([df_user_encoded] * len(df_books_not_read_encoded))\n",
        "    book_array = np.array(df_books_not_read_encoded)\n",
        "    input_array = np.vstack((df_user_array, book_array)).T\n",
        "\n",
        "    # Prediksi rating\n",
        "    pred_df_ratings = model.predict(input_array, verbose=0).flatten()\n",
        "\n",
        "    top_indices = pred_df_ratings.argsort()[-top_k:][::-1]\n",
        "    top_book_encoded = [df_books_not_read_encoded[i] for i in top_indices]\n",
        "    top_book_isbn = [book_encoded_to_book[i] for i in top_book_encoded]\n",
        "    top_scores = [pred_df_ratings[i] for i in top_indices]\n",
        "\n",
        "    # Ambil judul buku\n",
        "    titles = []\n",
        "    for isbn in top_book_isbn:\n",
        "        title_row = cf_df[cf_df['ISBN'] == isbn]['Title']\n",
        "        title = title_row.values[0] if not title_row.empty else \"Judul tidak ditemukan\"\n",
        "        titles.append(title)\n",
        "\n",
        "    # Buat DataFrame hasil rekomendasi\n",
        "    recommendation_df = pd.DataFrame({\n",
        "        'No': range(1, top_k + 1),\n",
        "        'ISBN': top_book_isbn,\n",
        "        'Title': titles,\n",
        "        'Predicted Rating': top_scores\n",
        "    })\n",
        "\n",
        "    print(f\"\\nRekomendasi {top_k} buku untuk df_user {df_user_id}:\\n\")\n",
        "\n",
        "    return recommendation_df\n",
        "\n",
        "df_user_sample = cf_df['User_id'].sample(1).iloc[0]\n",
        "\n",
        "recommend_df_books_for_df_user(\n",
        "    df_user_sample,\n",
        "    model,\n",
        "    cf_df,\n",
        "    df_user_to_df_user_encoded,\n",
        "    df_user_encoded_to_df_user,\n",
        "    book_to_book_encoded,\n",
        "    book_encoded_to_book,\n",
        "    top_k=20\n",
        ")\n"
      ],
      "metadata": {
        "id": "9XSaMLeIjIJ8",
        "colab": {
          "base_uri": "https://localhost:8080/",
          "height": 728
        },
        "outputId": "634c3e28-1a6f-4533-b191-bec47d000f88"
      },
      "execution_count": null,
      "outputs": [
        {
          "output_type": "stream",
          "name": "stdout",
          "text": [
            "\n",
            "Rekomendasi 20 buku untuk df_user 198711:\n",
            "\n"
          ]
        },
        {
          "output_type": "execute_result",
          "data": {
            "text/plain": [
              "    No        ISBN                                              Title  \\\n",
              "0    1  1844262553                                               Free   \n",
              "1    2  0590353403     Harry Potter and the Sorcerer's Stone (Book 1)   \n",
              "2    3  0439064864   Harry Potter and the Chamber of Secrets (Book 2)   \n",
              "3    4  0836213122  There's Treasure Everywhere--A Calvin and Hobb...   \n",
              "4    5  846630679X                             La caverna = A caverna   \n",
              "5    6  0553296981              Anne Frank: The Diary of a Young Girl   \n",
              "6    7  0670894605                            The Secret Life of Bees   \n",
              "7    8  0886775795    Mind-Speakers' Call (The Ghatti's Tale, Book 2)   \n",
              "8    9  0894803204                              The Book of Questions   \n",
              "9   10  0553283685                                           Hyperion   \n",
              "10  11  0439139597       Harry Potter and the Goblet of Fire (Book 4)   \n",
              "11  12  038073267X  Sacred and Profane (Peter Decker &amp; Rina La...   \n",
              "12  13  0399151451                                       Bad Business   \n",
              "13  14  0060256672       Where the Sidewalk Ends : Poems and Drawings   \n",
              "14  15  0393050939         Stiff: The Curious Lives of Human Cadavers   \n",
              "15  16  0394800389  Fox in Socks (I Can Read It All by Myself Begi...   \n",
              "16  17  0439136350  Harry Potter and the Prisoner of Azkaban (Book 3)   \n",
              "17  18  0064401707  Scary Stories to Tell in the Dark : Collected ...   \n",
              "18  19  043935806X  Harry Potter and the Order of the Phoenix (Boo...   \n",
              "19  20  1576731235                                  Front Porch Tales   \n",
              "\n",
              "    Predicted Rating  \n",
              "0           0.000012  \n",
              "1           0.000006  \n",
              "2           0.000004  \n",
              "3           0.000003  \n",
              "4           0.000003  \n",
              "5           0.000003  \n",
              "6           0.000003  \n",
              "7           0.000002  \n",
              "8           0.000002  \n",
              "9           0.000002  \n",
              "10          0.000002  \n",
              "11          0.000002  \n",
              "12          0.000002  \n",
              "13          0.000002  \n",
              "14          0.000002  \n",
              "15          0.000002  \n",
              "16          0.000002  \n",
              "17          0.000002  \n",
              "18          0.000002  \n",
              "19          0.000002  "
            ],
            "text/html": [
              "\n",
              "  <div id=\"df-711ebb6a-c87f-4a07-a3e4-cd23be8b0ce2\" class=\"colab-df-container\">\n",
              "    <div>\n",
              "<style scoped>\n",
              "    .dataframe tbody tr th:only-of-type {\n",
              "        vertical-align: middle;\n",
              "    }\n",
              "\n",
              "    .dataframe tbody tr th {\n",
              "        vertical-align: top;\n",
              "    }\n",
              "\n",
              "    .dataframe thead th {\n",
              "        text-align: right;\n",
              "    }\n",
              "</style>\n",
              "<table border=\"1\" class=\"dataframe\">\n",
              "  <thead>\n",
              "    <tr style=\"text-align: right;\">\n",
              "      <th></th>\n",
              "      <th>No</th>\n",
              "      <th>ISBN</th>\n",
              "      <th>Title</th>\n",
              "      <th>Predicted Rating</th>\n",
              "    </tr>\n",
              "  </thead>\n",
              "  <tbody>\n",
              "    <tr>\n",
              "      <th>0</th>\n",
              "      <td>1</td>\n",
              "      <td>1844262553</td>\n",
              "      <td>Free</td>\n",
              "      <td>0.000012</td>\n",
              "    </tr>\n",
              "    <tr>\n",
              "      <th>1</th>\n",
              "      <td>2</td>\n",
              "      <td>0590353403</td>\n",
              "      <td>Harry Potter and the Sorcerer's Stone (Book 1)</td>\n",
              "      <td>0.000006</td>\n",
              "    </tr>\n",
              "    <tr>\n",
              "      <th>2</th>\n",
              "      <td>3</td>\n",
              "      <td>0439064864</td>\n",
              "      <td>Harry Potter and the Chamber of Secrets (Book 2)</td>\n",
              "      <td>0.000004</td>\n",
              "    </tr>\n",
              "    <tr>\n",
              "      <th>3</th>\n",
              "      <td>4</td>\n",
              "      <td>0836213122</td>\n",
              "      <td>There's Treasure Everywhere--A Calvin and Hobb...</td>\n",
              "      <td>0.000003</td>\n",
              "    </tr>\n",
              "    <tr>\n",
              "      <th>4</th>\n",
              "      <td>5</td>\n",
              "      <td>846630679X</td>\n",
              "      <td>La caverna = A caverna</td>\n",
              "      <td>0.000003</td>\n",
              "    </tr>\n",
              "    <tr>\n",
              "      <th>5</th>\n",
              "      <td>6</td>\n",
              "      <td>0553296981</td>\n",
              "      <td>Anne Frank: The Diary of a Young Girl</td>\n",
              "      <td>0.000003</td>\n",
              "    </tr>\n",
              "    <tr>\n",
              "      <th>6</th>\n",
              "      <td>7</td>\n",
              "      <td>0670894605</td>\n",
              "      <td>The Secret Life of Bees</td>\n",
              "      <td>0.000003</td>\n",
              "    </tr>\n",
              "    <tr>\n",
              "      <th>7</th>\n",
              "      <td>8</td>\n",
              "      <td>0886775795</td>\n",
              "      <td>Mind-Speakers' Call (The Ghatti's Tale, Book 2)</td>\n",
              "      <td>0.000002</td>\n",
              "    </tr>\n",
              "    <tr>\n",
              "      <th>8</th>\n",
              "      <td>9</td>\n",
              "      <td>0894803204</td>\n",
              "      <td>The Book of Questions</td>\n",
              "      <td>0.000002</td>\n",
              "    </tr>\n",
              "    <tr>\n",
              "      <th>9</th>\n",
              "      <td>10</td>\n",
              "      <td>0553283685</td>\n",
              "      <td>Hyperion</td>\n",
              "      <td>0.000002</td>\n",
              "    </tr>\n",
              "    <tr>\n",
              "      <th>10</th>\n",
              "      <td>11</td>\n",
              "      <td>0439139597</td>\n",
              "      <td>Harry Potter and the Goblet of Fire (Book 4)</td>\n",
              "      <td>0.000002</td>\n",
              "    </tr>\n",
              "    <tr>\n",
              "      <th>11</th>\n",
              "      <td>12</td>\n",
              "      <td>038073267X</td>\n",
              "      <td>Sacred and Profane (Peter Decker &amp;amp; Rina La...</td>\n",
              "      <td>0.000002</td>\n",
              "    </tr>\n",
              "    <tr>\n",
              "      <th>12</th>\n",
              "      <td>13</td>\n",
              "      <td>0399151451</td>\n",
              "      <td>Bad Business</td>\n",
              "      <td>0.000002</td>\n",
              "    </tr>\n",
              "    <tr>\n",
              "      <th>13</th>\n",
              "      <td>14</td>\n",
              "      <td>0060256672</td>\n",
              "      <td>Where the Sidewalk Ends : Poems and Drawings</td>\n",
              "      <td>0.000002</td>\n",
              "    </tr>\n",
              "    <tr>\n",
              "      <th>14</th>\n",
              "      <td>15</td>\n",
              "      <td>0393050939</td>\n",
              "      <td>Stiff: The Curious Lives of Human Cadavers</td>\n",
              "      <td>0.000002</td>\n",
              "    </tr>\n",
              "    <tr>\n",
              "      <th>15</th>\n",
              "      <td>16</td>\n",
              "      <td>0394800389</td>\n",
              "      <td>Fox in Socks (I Can Read It All by Myself Begi...</td>\n",
              "      <td>0.000002</td>\n",
              "    </tr>\n",
              "    <tr>\n",
              "      <th>16</th>\n",
              "      <td>17</td>\n",
              "      <td>0439136350</td>\n",
              "      <td>Harry Potter and the Prisoner of Azkaban (Book 3)</td>\n",
              "      <td>0.000002</td>\n",
              "    </tr>\n",
              "    <tr>\n",
              "      <th>17</th>\n",
              "      <td>18</td>\n",
              "      <td>0064401707</td>\n",
              "      <td>Scary Stories to Tell in the Dark : Collected ...</td>\n",
              "      <td>0.000002</td>\n",
              "    </tr>\n",
              "    <tr>\n",
              "      <th>18</th>\n",
              "      <td>19</td>\n",
              "      <td>043935806X</td>\n",
              "      <td>Harry Potter and the Order of the Phoenix (Boo...</td>\n",
              "      <td>0.000002</td>\n",
              "    </tr>\n",
              "    <tr>\n",
              "      <th>19</th>\n",
              "      <td>20</td>\n",
              "      <td>1576731235</td>\n",
              "      <td>Front Porch Tales</td>\n",
              "      <td>0.000002</td>\n",
              "    </tr>\n",
              "  </tbody>\n",
              "</table>\n",
              "</div>\n",
              "    <div class=\"colab-df-buttons\">\n",
              "\n",
              "  <div class=\"colab-df-container\">\n",
              "    <button class=\"colab-df-convert\" onclick=\"convertToInteractive('df-711ebb6a-c87f-4a07-a3e4-cd23be8b0ce2')\"\n",
              "            title=\"Convert this dataframe to an interactive table.\"\n",
              "            style=\"display:none;\">\n",
              "\n",
              "  <svg xmlns=\"http://www.w3.org/2000/svg\" height=\"24px\" viewBox=\"0 -960 960 960\">\n",
              "    <path d=\"M120-120v-720h720v720H120Zm60-500h600v-160H180v160Zm220 220h160v-160H400v160Zm0 220h160v-160H400v160ZM180-400h160v-160H180v160Zm440 0h160v-160H620v160ZM180-180h160v-160H180v160Zm440 0h160v-160H620v160Z\"/>\n",
              "  </svg>\n",
              "    </button>\n",
              "\n",
              "  <style>\n",
              "    .colab-df-container {\n",
              "      display:flex;\n",
              "      gap: 12px;\n",
              "    }\n",
              "\n",
              "    .colab-df-convert {\n",
              "      background-color: #E8F0FE;\n",
              "      border: none;\n",
              "      border-radius: 50%;\n",
              "      cursor: pointer;\n",
              "      display: none;\n",
              "      fill: #1967D2;\n",
              "      height: 32px;\n",
              "      padding: 0 0 0 0;\n",
              "      width: 32px;\n",
              "    }\n",
              "\n",
              "    .colab-df-convert:hover {\n",
              "      background-color: #E2EBFA;\n",
              "      box-shadow: 0px 1px 2px rgba(60, 64, 67, 0.3), 0px 1px 3px 1px rgba(60, 64, 67, 0.15);\n",
              "      fill: #174EA6;\n",
              "    }\n",
              "\n",
              "    .colab-df-buttons div {\n",
              "      margin-bottom: 4px;\n",
              "    }\n",
              "\n",
              "    [theme=dark] .colab-df-convert {\n",
              "      background-color: #3B4455;\n",
              "      fill: #D2E3FC;\n",
              "    }\n",
              "\n",
              "    [theme=dark] .colab-df-convert:hover {\n",
              "      background-color: #434B5C;\n",
              "      box-shadow: 0px 1px 3px 1px rgba(0, 0, 0, 0.15);\n",
              "      filter: drop-shadow(0px 1px 2px rgba(0, 0, 0, 0.3));\n",
              "      fill: #FFFFFF;\n",
              "    }\n",
              "  </style>\n",
              "\n",
              "    <script>\n",
              "      const buttonEl =\n",
              "        document.querySelector('#df-711ebb6a-c87f-4a07-a3e4-cd23be8b0ce2 button.colab-df-convert');\n",
              "      buttonEl.style.display =\n",
              "        google.colab.kernel.accessAllowed ? 'block' : 'none';\n",
              "\n",
              "      async function convertToInteractive(key) {\n",
              "        const element = document.querySelector('#df-711ebb6a-c87f-4a07-a3e4-cd23be8b0ce2');\n",
              "        const dataTable =\n",
              "          await google.colab.kernel.invokeFunction('convertToInteractive',\n",
              "                                                    [key], {});\n",
              "        if (!dataTable) return;\n",
              "\n",
              "        const docLinkHtml = 'Like what you see? Visit the ' +\n",
              "          '<a target=\"_blank\" href=https://colab.research.google.com/notebooks/data_table.ipynb>data table notebook</a>'\n",
              "          + ' to learn more about interactive tables.';\n",
              "        element.innerHTML = '';\n",
              "        dataTable['output_type'] = 'display_data';\n",
              "        await google.colab.output.renderOutput(dataTable, element);\n",
              "        const docLink = document.createElement('div');\n",
              "        docLink.innerHTML = docLinkHtml;\n",
              "        element.appendChild(docLink);\n",
              "      }\n",
              "    </script>\n",
              "  </div>\n",
              "\n",
              "\n",
              "    <div id=\"df-32f3864d-364e-4a84-a9ee-452d7f80ebfb\">\n",
              "      <button class=\"colab-df-quickchart\" onclick=\"quickchart('df-32f3864d-364e-4a84-a9ee-452d7f80ebfb')\"\n",
              "                title=\"Suggest charts\"\n",
              "                style=\"display:none;\">\n",
              "\n",
              "<svg xmlns=\"http://www.w3.org/2000/svg\" height=\"24px\"viewBox=\"0 0 24 24\"\n",
              "     width=\"24px\">\n",
              "    <g>\n",
              "        <path d=\"M19 3H5c-1.1 0-2 .9-2 2v14c0 1.1.9 2 2 2h14c1.1 0 2-.9 2-2V5c0-1.1-.9-2-2-2zM9 17H7v-7h2v7zm4 0h-2V7h2v10zm4 0h-2v-4h2v4z\"/>\n",
              "    </g>\n",
              "</svg>\n",
              "      </button>\n",
              "\n",
              "<style>\n",
              "  .colab-df-quickchart {\n",
              "      --bg-color: #E8F0FE;\n",
              "      --fill-color: #1967D2;\n",
              "      --hover-bg-color: #E2EBFA;\n",
              "      --hover-fill-color: #174EA6;\n",
              "      --disabled-fill-color: #AAA;\n",
              "      --disabled-bg-color: #DDD;\n",
              "  }\n",
              "\n",
              "  [theme=dark] .colab-df-quickchart {\n",
              "      --bg-color: #3B4455;\n",
              "      --fill-color: #D2E3FC;\n",
              "      --hover-bg-color: #434B5C;\n",
              "      --hover-fill-color: #FFFFFF;\n",
              "      --disabled-bg-color: #3B4455;\n",
              "      --disabled-fill-color: #666;\n",
              "  }\n",
              "\n",
              "  .colab-df-quickchart {\n",
              "    background-color: var(--bg-color);\n",
              "    border: none;\n",
              "    border-radius: 50%;\n",
              "    cursor: pointer;\n",
              "    display: none;\n",
              "    fill: var(--fill-color);\n",
              "    height: 32px;\n",
              "    padding: 0;\n",
              "    width: 32px;\n",
              "  }\n",
              "\n",
              "  .colab-df-quickchart:hover {\n",
              "    background-color: var(--hover-bg-color);\n",
              "    box-shadow: 0 1px 2px rgba(60, 64, 67, 0.3), 0 1px 3px 1px rgba(60, 64, 67, 0.15);\n",
              "    fill: var(--button-hover-fill-color);\n",
              "  }\n",
              "\n",
              "  .colab-df-quickchart-complete:disabled,\n",
              "  .colab-df-quickchart-complete:disabled:hover {\n",
              "    background-color: var(--disabled-bg-color);\n",
              "    fill: var(--disabled-fill-color);\n",
              "    box-shadow: none;\n",
              "  }\n",
              "\n",
              "  .colab-df-spinner {\n",
              "    border: 2px solid var(--fill-color);\n",
              "    border-color: transparent;\n",
              "    border-bottom-color: var(--fill-color);\n",
              "    animation:\n",
              "      spin 1s steps(1) infinite;\n",
              "  }\n",
              "\n",
              "  @keyframes spin {\n",
              "    0% {\n",
              "      border-color: transparent;\n",
              "      border-bottom-color: var(--fill-color);\n",
              "      border-left-color: var(--fill-color);\n",
              "    }\n",
              "    20% {\n",
              "      border-color: transparent;\n",
              "      border-left-color: var(--fill-color);\n",
              "      border-top-color: var(--fill-color);\n",
              "    }\n",
              "    30% {\n",
              "      border-color: transparent;\n",
              "      border-left-color: var(--fill-color);\n",
              "      border-top-color: var(--fill-color);\n",
              "      border-right-color: var(--fill-color);\n",
              "    }\n",
              "    40% {\n",
              "      border-color: transparent;\n",
              "      border-right-color: var(--fill-color);\n",
              "      border-top-color: var(--fill-color);\n",
              "    }\n",
              "    60% {\n",
              "      border-color: transparent;\n",
              "      border-right-color: var(--fill-color);\n",
              "    }\n",
              "    80% {\n",
              "      border-color: transparent;\n",
              "      border-right-color: var(--fill-color);\n",
              "      border-bottom-color: var(--fill-color);\n",
              "    }\n",
              "    90% {\n",
              "      border-color: transparent;\n",
              "      border-bottom-color: var(--fill-color);\n",
              "    }\n",
              "  }\n",
              "</style>\n",
              "\n",
              "      <script>\n",
              "        async function quickchart(key) {\n",
              "          const quickchartButtonEl =\n",
              "            document.querySelector('#' + key + ' button');\n",
              "          quickchartButtonEl.disabled = true;  // To prevent multiple clicks.\n",
              "          quickchartButtonEl.classList.add('colab-df-spinner');\n",
              "          try {\n",
              "            const charts = await google.colab.kernel.invokeFunction(\n",
              "                'suggestCharts', [key], {});\n",
              "          } catch (error) {\n",
              "            console.error('Error during call to suggestCharts:', error);\n",
              "          }\n",
              "          quickchartButtonEl.classList.remove('colab-df-spinner');\n",
              "          quickchartButtonEl.classList.add('colab-df-quickchart-complete');\n",
              "        }\n",
              "        (() => {\n",
              "          let quickchartButtonEl =\n",
              "            document.querySelector('#df-32f3864d-364e-4a84-a9ee-452d7f80ebfb button');\n",
              "          quickchartButtonEl.style.display =\n",
              "            google.colab.kernel.accessAllowed ? 'block' : 'none';\n",
              "        })();\n",
              "      </script>\n",
              "    </div>\n",
              "\n",
              "    </div>\n",
              "  </div>\n"
            ],
            "application/vnd.google.colaboratory.intrinsic+json": {
              "type": "dataframe",
              "summary": "{\n  \"name\": \")\",\n  \"rows\": 20,\n  \"fields\": [\n    {\n      \"column\": \"No\",\n      \"properties\": {\n        \"dtype\": \"number\",\n        \"std\": 5,\n        \"min\": 1,\n        \"max\": 20,\n        \"num_unique_values\": 20,\n        \"samples\": [\n          1,\n          18,\n          16\n        ],\n        \"semantic_type\": \"\",\n        \"description\": \"\"\n      }\n    },\n    {\n      \"column\": \"ISBN\",\n      \"properties\": {\n        \"dtype\": \"string\",\n        \"num_unique_values\": 20,\n        \"samples\": [\n          \"1844262553\",\n          \"0064401707\",\n          \"0394800389\"\n        ],\n        \"semantic_type\": \"\",\n        \"description\": \"\"\n      }\n    },\n    {\n      \"column\": \"Title\",\n      \"properties\": {\n        \"dtype\": \"string\",\n        \"num_unique_values\": 20,\n        \"samples\": [\n          \"Free\",\n          \"Scary Stories to Tell in the Dark : Collected from American Folklore (Scary Stories)\",\n          \"Fox in Socks (I Can Read It All by Myself Beginner Books)\"\n        ],\n        \"semantic_type\": \"\",\n        \"description\": \"\"\n      }\n    },\n    {\n      \"column\": \"Predicted Rating\",\n      \"properties\": {\n        \"dtype\": \"float32\",\n        \"num_unique_values\": 20,\n        \"samples\": [\n          1.2015994798275642e-05,\n          1.8238353050037404e-06,\n          1.972492782442714e-06\n        ],\n        \"semantic_type\": \"\",\n        \"description\": \"\"\n      }\n    }\n  ]\n}"
            }
          },
          "metadata": {},
          "execution_count": 58
        }
      ]
    },
    {
      "cell_type": "markdown",
      "source": [
        "\n",
        "\n",
        "Model berhasil memberikan rekomendasi buku yang menunjukkan relevansi tinggi dengan preferensi pengguna. Hal ini tercermin dari dominasi seri Harry Potter, yang muncul sebanyak empat judul berbeda, yaitu The Chamber of Secrets, The Goblet of Fire, The Sorcerer's Stone, dan The Prisoner of Azkaban. Ini mengindikasikan bahwa pengguna kemungkinan besar memiliki ketertarikan kuat terhadap genre fantasi remaja dan fiksi populer.\n",
        "\n",
        "Selain itu, rekomendasi lain seperti The Hobbit, Coraline, dan The Da Vinci Code juga memperkuat indikasi minat terhadap cerita yang memuat unsur petualangan, misteri, dan dunia imajinatif. Kehadiran buku seperti The Lovely Bones dan Sam's Letters to Jennifer menambahkan dimensi emosional dan drama, menunjukkan bahwa pengguna juga mungkin menyukai bacaan dengan nuansa psikologis atau sentimental.\n",
        "\n",
        "Secara keseluruhan, hasil rekomendasi ini menunjukkan bahwa model Collaborative Filtering bekerja cukup baik dalam mengenali pola preferensi pengguna berdasarkan kemiripan perilaku dengan pengguna lain, serta mampu menghasilkan saran buku yang relevan dan beragam secara genre.\n",
        "\n"
      ],
      "metadata": {
        "id": "6Ih1gv0JKIWB"
      }
    }
  ]
}